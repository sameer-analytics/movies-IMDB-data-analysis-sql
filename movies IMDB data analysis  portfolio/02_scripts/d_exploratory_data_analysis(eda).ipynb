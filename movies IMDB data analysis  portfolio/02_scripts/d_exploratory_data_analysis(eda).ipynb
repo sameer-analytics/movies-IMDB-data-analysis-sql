{
 "cells": [
  {
   "cell_type": "code",
   "execution_count": 1,
   "id": "4d0cea51-4c15-44be-89d3-2d58f7a98b82",
   "metadata": {},
   "outputs": [],
   "source": [
    "#importing the necessary  libraries\n",
    "import numpy as np #for mathematical operation\n",
    "import pandas as pd #for data manipulation\n",
    "import sqlite3 #for server less database"
   ]
  },
  {
   "cell_type": "code",
   "execution_count": 2,
   "id": "327c6cc7-4178-4bbb-8c9f-54012733cff0",
   "metadata": {},
   "outputs": [],
   "source": [
    "#Database Connection\n",
    "# Establishing a connection to the SQLite database\n",
    "db = \"../01_data/movies_directors_dataset.sqlite\"\n",
    "con = sqlite3.connect(db)\n",
    "cur = con.cursor()  # Creating a cursor object to execute SQL queries\n",
    "#we are creating a database connection because sql lite database from now hold the movies and director table which will be analyse"
   ]
  },
  {
   "cell_type": "markdown",
   "id": "5706360a-1a7a-4efa-a756-003d9daf7472",
   "metadata": {},
   "source": [
    "# #EXPLORATORY DATA ANALYSIS(EDA):-"
   ]
  },
  {
   "cell_type": "code",
   "execution_count": null,
   "id": "f3d7c122-5bbd-4597-96e6-54a6a18fb485",
   "metadata": {},
   "outputs": [],
   "source": [
    "#The columns availabe in movies table in database are id,original_title,budget,popularity,release_date,revenue,title,vote_average,vote_count,overview,tagline,uid,director_id\n",
    "#the columns in the directors table are name,id,gender,uid,department"
   ]
  },
  {
   "cell_type": "code",
   "execution_count": 4,
   "id": "d41eb5d9-5f72-4985-a656-6449f497e7ba",
   "metadata": {},
   "outputs": [
    {
     "name": "stdout",
     "output_type": "stream",
     "text": [
      "      id                               original_title     budget  popularity  \\\n",
      "0  43614  Pirates of the Caribbean: On Stranger Tides  380000000         135   \n",
      "1  43598     Pirates of the Caribbean: At World's End  300000000         139   \n",
      "2  43604                      Avengers: Age of Ultron  280000000         134   \n",
      "3  43607                             Superman Returns  270000000          57   \n",
      "4  43601                                  John Carter  260000000          43   \n",
      "5  43603                                      Tangled  260000000          48   \n",
      "6  43602                                 Spider-Man 3  258000000         115   \n",
      "7  43610                              The Lone Ranger  255000000          49   \n",
      "8  43600                        The Dark Knight Rises  250000000         112   \n",
      "9  43605       Harry Potter and the Half-Blood Prince  250000000          98   \n",
      "\n",
      "  release_date     revenue                                        title  \\\n",
      "0   2011-05-14  1045713802  Pirates of the Caribbean: On Stranger Tides   \n",
      "1   2007-05-19   961000000     Pirates of the Caribbean: At World's End   \n",
      "2   2015-04-22  1405403694                      Avengers: Age of Ultron   \n",
      "3   2006-06-28   391081192                             Superman Returns   \n",
      "4   2012-03-07   284139100                                  John Carter   \n",
      "5   2010-11-24   591794936                                      Tangled   \n",
      "6   2007-05-01   890871626                                 Spider-Man 3   \n",
      "7   2013-07-03    89289910                              The Lone Ranger   \n",
      "8   2012-07-16  1084939099                        The Dark Knight Rises   \n",
      "9   2009-07-07   933959197       Harry Potter and the Half-Blood Prince   \n",
      "\n",
      "   vote_average  vote_count  \\\n",
      "0           6.4        4948   \n",
      "1           6.9        4500   \n",
      "2           7.3        6767   \n",
      "3           5.4        1400   \n",
      "4           6.1        2124   \n",
      "5           7.4        3330   \n",
      "6           5.9        3576   \n",
      "7           5.9        2311   \n",
      "8           7.6        9106   \n",
      "9           7.4        5293   \n",
      "\n",
      "                                            overview  \\\n",
      "0  Captain Jack Sparrow crosses paths with a woma...   \n",
      "1  Captain Barbossa, long believed to be dead, ha...   \n",
      "2  When Tony Stark tries to jumpstart a dormant p...   \n",
      "3  Superman returns to discover his 5-year absenc...   \n",
      "4  John Carter is a war-weary, former military ca...   \n",
      "5  When the kingdom's most wanted-and most charmi...   \n",
      "6  The seemingly invincible Spider-Man goes up ag...   \n",
      "7  The Texas Rangers chase down a gang of outlaws...   \n",
      "8  Following the death of District Attorney Harve...   \n",
      "9  As Harry begins his sixth year at Hogwarts, he...   \n",
      "\n",
      "                                          tagline    uid  director_id  \n",
      "0                     Live Forever Or Die Trying.   1865         4775  \n",
      "1  At the end of the world, the adventure begins.    285         4763  \n",
      "2                             A New Age Has Come.  99861         4769  \n",
      "3                                            None   1452         4772  \n",
      "4            Lost in our world, found in another.  49529         4766  \n",
      "5        They're taking adventure to new lengths.  38757         4768  \n",
      "6                              The battle within.    559         4767  \n",
      "7                         Never Take Off the Mask  57201         4763  \n",
      "8                                 The Legend Ends  49026         4765  \n",
      "9                           Dark Secrets Revealed    767         4770  \n"
     ]
    }
   ],
   "source": [
    "#movie analysis>>>>>>>>>>\n",
    "#Budget Analysis\n",
    "#top 10 highest budget movies\n",
    "cur.execute(\"SELECT * FROM MOVIES ORDER BY BUDGET DESC LIMIT 10\")\n",
    "top_10_movies=cur.fetchall()\n",
    "high_budget_movies=pd.DataFrame(top_10_movies,columns=[\"id\",\"original_title\",\"budget\",\"popularity\",\"release_date\",\"revenue\",\"title\",\"vote_average\",\"vote_count\",\"overview\",\"tagline\",\"uid\",\"director_id\"])\n",
    "print(high_budget_movies)"
   ]
  },
  {
   "cell_type": "code",
   "execution_count": 5,
   "id": "e340126a-daa9-4653-863f-0e2361e8a31c",
   "metadata": {},
   "outputs": [
    {
     "name": "stdout",
     "output_type": "stream",
     "text": [
      "[(4773,)]\n",
      "the number of movies present in the movies-director database is 4773\n"
     ]
    }
   ],
   "source": [
    "#Counting the number of movies in the database table using sql query\n",
    "cur.execute(\"SELECT COUNT(Title)FROM MOVIES\")\n",
    "mcount=cur.fetchall()\n",
    "print(mcount)#it provided a list\n",
    "print(f\"the number of movies present in the movies-director database is {mcount[0][0]}\")"
   ]
  },
  {
   "cell_type": "code",
   "execution_count": 6,
   "id": "1eadde4e-b9d3-4522-ad08-5669dec120b2",
   "metadata": {},
   "outputs": [
    {
     "name": "stdout",
     "output_type": "stream",
     "text": [
      "top 3 popular movies are:Minions,Interstellar & Deadpool\n"
     ]
    }
   ],
   "source": [
    "#3 most popular movie name\n",
    "cur.execute(\"SELECT ORIGINAL_TITLE FROM MOVIES ORDER BY POPULARITY DESC LIMIT 3\")\n",
    "top_3movies=cur.fetchall()\n",
    "print(f\"top 3 popular movies are:{top_3movies[0][0]},{top_3movies[1][0]} & {top_3movies[2][0]}\")"
   ]
  },
  {
   "cell_type": "code",
   "execution_count": 7,
   "id": "4e6f41c5-4119-4292-9549-3a119f7a5940",
   "metadata": {},
   "outputs": [
    {
     "name": "stdout",
     "output_type": "stream",
     "text": [
      "high voted movies from 2005 to till now are: [('Sardaarji',), ('Whiplash',), ('Counting',), ('The Dark Knight',), ('ハウルの動く城',), ('The Visual Bible: The Gospel of John',), ('Interstellar',), ('Inception',), ('The Lord of the Rings: The Return of the King',), ('Room',), ('Guten Tag, Ramón',), ('Inside Out',), ('The Prestige',), ('The Grand Budapest Hotel',), ('The Imitation Game',), ('One Direction: This Is Us',), ('Star Wars: Clone Wars (Volume 1)',), ('The Work and the Glory II: American Zion',), ('Dolphins and Whales: Tribes of the Ocean',), ('Lake of Fire',), ('Samsara',), ('올드보이',), ('Iraq for Sale: The War Profiteers',), ('Tupac: Resurrection',), ('Call + Response',), ('Guardians of the Galaxy',), ('The Wolf of Wall Street',), ('The Departed',), ('Inglourious Basterds',), ('Gone Girl',), ('Prisoners',), ('There Will Be Blood',), ('Her',), ('12 Years a Slave',), ('Eternal Sunshine of the Spotless Mind',), ('Polisse',), ('Incendies',), ('Dallas Buyers Club',), ('Batman: The Dark Knight Returns, Part 2',), ('Jagten',), ('Das Leben der Anderen',), ('WALL·E',), ('Big Hero 6',), ('Django Unchained',), ('Shutter Island',), ('Gran Torino',), ('The Help',), ('Spotlight',), ('Into the Wild',), ('The Theory of Everything',), ('About Time',), ('Tropa de Elite',), ('El secreto de sus ojos',), ('Vals Im Bashir',), ('The Square',), ('Que Horas Ela Volta?',), ('Cama adentro',), ('Up',), ('Harry Potter and the Prisoner of Azkaban',), ('The Pursuit of Happyness',), ('Kill Bill: Vol. 1',), ('V for Vendetta',), ('Rush',), ('Million Dollar Baby',), ('The Notebook',), ('Straight Outta Compton',), ('Pride & Prejudice',), ('No Country for Old Men',), ('Warrior',), ('La migliore offerta',), (\"Hachi: A Dog's Tale\",), ('Der Untergang',), ('The Perks of Being a Wallflower',), ('The Boy in the Striped Pyjamas',), ('My Name Is Khan',), ('Persepolis',), ('Inside Job',), ('جدایی نادر از سیمین',), ('Kevin Hart: Laugh at My Pain',), ('Along the Roadside',), ('Chats perchés',), ('The Man from Earth',), ('The Dark Knight Rises',), ('The Hobbit: The Desolation of Smaug',), ('Toy Story 3',), ('Edge of Tomorrow',), ('Captain America: The Winter Soldier',), ('How to Train Your Dragon 2',), ('The Martian',), ('Finding Nemo',), ('The Little Prince',), ('Big Fish',), ('The Hateful Eight',), ('Captain Phillips',), ('Kill Bill: Vol. 2',), ('Mystic River',), ('Me Before You',), ('Moonrise Kingdom',), ('El laberinto del fauno',), (\"The King's Speech\",), ('Slumdog Millionaire',), ('Ex Machina',), ('Ernest et Célestine',), ('The Fault in Our Stars',), ('南京!南京!',), ('Nightcrawler',), ('Emma',), ('Moon',), ('Lage Raho Munna Bhai',), ('Riding Giants',), ('Before Sunset',), ('Touching the Void',), ('In the Shadow of the Moon',), ('Ha-Buah',), ('A escondidas',), ('My Dog Tulip',), ('X-Men: Days of Future Past',), ('How to Train Your Dragon',), ('Harry Potter and the Goblet of Fire',), ('Ratatouille',), ('Batman Begins',), ('Pirates of the Caribbean: The Curse of the Black Pearl',), ('The Lego Movie',), ('Seven Pounds',), ('Fantastic Mr. Fox',), ('Baahubali: The Beginning',), ('崖の上のポニョ',), ('Freedom Writers',), ('Hotel Rwanda',), ('Brokeback Mountain',), ('Amour',), ('Little Miss Sunshine',), ('Kicks',), ('Die Welle',), ('Control',), ('Les Choristes',), ('No se Aceptan Devoluciones',), ('Still Alice',), ('Shaun of the Dead',), ('Boyhood',), ('Man on Wire',), ('Wind Walkers',), ('Departure',), ('I Origins',), ('Jagal',), ('Tarnation',), ('Cavite',), ('Tangled',), ('Harry Potter and the Half-Blood Prince',), ('The Avengers',), ('Star Trek Into Darkness',), ('Iron Man',), ('Harry Potter and the Order of the Phoenix',), ('Star Trek',), ('The Hunger Games: Catching Fire',), ('American Gangster',), ('The Incredibles',), ('Fury',), ('Children of Men',), ('Deadpool',), ('American Sniper',), ('Lone Survivor',), ('Serenity',), ('Midnight in Paris',), ('Atonement',), ('The Age of Adaline',), ('Lucky Number Slevin',), ('The Conjuring',), ('Selma',), ('Synecdoche, New York',), ('The Book Thief',), ('Birdman',), ('McFarland, USA',), ('Hot Fuzz',), ('Drive',), ('In Bruges',), ('Возвращение',), ('Le scaphandre et le papillon',), ('Flipped',), ('태극기 휘날리며',), ('Philomena',), ('Nebraska',), ('The Secret Life of Bees',), ('Veer-Zaara',), ('We Need to Talk About Kevin',), ('Good bye, Lenin!',), ('The Last King of Scotland',), ('Rudderless',), ('친절한 금자씨',), ('Before Midnight',), ('疯狂的赛车',), ('This Is England',), ('Submarine',), ('Growing Up Smith',), ('Food, Inc.',), ('20 Feet from Stardom',), ('Food Chains',), ('Circumstance',), ('The Station Agent',), ('Weekend',), ('Indie Game: The Movie',), ('Avengers: Age of Ultron',), ('Furious 7',), ('The Great Gatsby',), ('Dawn of the Planet of the Apes',), ('The Curious Case of Benjamin Button',), ('Frozen',), ('The Last Samurai',), ('The Revenant',), ('The Bourne Ultimatum',), ('Gravity',), ('Casino Royale',), ('Blood Diamond',), ('Cinderella Man',), ('Memoirs of a Geisha',), ('Zodiac',), ('Oceans',), ('Now You See Me',), ('Unbroken',), ('Coraline',), ('Man on Fire',), ('Changeling',), ('Inside Man',), ('The Book of Life',), ('The Life of David Gale',), ('Coach Carter',), ('Apocalypto',), ('Creed',), ('Saving Mr. Banks',), ('The Longest Ride',), ('District 9',), ('Southpaw',), ('Walk the Line',), ('The Big Short',), (\"The World's Fastest Indian\",), ('The Hundred-Foot Journey',), ('The Kite Runner',), ('Pitch Perfect',), ('The Artist',), ('Match Point',), ('Chiamatemi Francesco - Il Papa della gente',), ('Black Swan',), ('The Butterfly Effect',), ('La grande bellezza',), ('If I Stay',), ('Woman in Gold',), ('Peaceful Warrior',), ('Volver',), ('Jab Tak Hai Jaan',), ('Sicko',), ('Beneath Hill 60',), ('The Secret of Kells',), ('Begin Again',), ('A Single Man',), ('The Wrestler',), ('Saint Ralph',), ('The Machinist',), ('Tucker and Dale vs Evil',), ('Le Nom des gens',), ('Airlift',), ('Lost in Translation',), ('Географ глобус пропил',), ('Les triplettes de Belleville',), ('Dabba',), ('Serbuan maut',), ('4 luni, 3 săptămîni și 2 zile',), ('Fruitvale Station',), ('The Mudge Boy',), ('Wordplay',), ('Now Is Good',), ('Sisters in Law',), ('Once',), ('Avatar',), ('Mad Max: Fury Road',), ('Life of Pi',), ('The Girl with the Dragon Tattoo',), ('The Bourne Supremacy',), ('Scott Pilgrim vs. the World',), ('Law Abiding Citizen',), ('The Judge',), ('Eastern Promises',), ('The Boat That Rocked',), ('Ray',), ('Sin City',), ('Bridge of Spies',), ('The Hangover',), ('The Blind Side',), ('True Grit',), ('The Reader',), ('The Butler',), ('Corpse Bride',), ('Glory Road',), ('Sicario',), (\"Barney's Version\",), ('Frost/Nixon',), ('Taken',), ('The Best of Me',), ('Finding Neverland',), ('Eddie the Eagle',), ('Zombieland',), ('Zwartboek',), ('Joyeux Noël',), ('功夫',), ('21 Grams',), ('Das weisse Band',), ('Enter the Void',), ('End of Watch',), ('The Hurt Locker',), ('Kiss Kiss Bang Bang',), (\"Elle s'appelait Sarah\",), ('Mar adentro',), ('Letters from Iwo Jima',), ('The Fighter',), ('Brooklyn',), ('Inside Llewyn Davis',), ('Crash',), ('곡성',), ('Yeh Jawaani Hai Deewani',), ('(500) Days of Summer',), ('Dope',), ('The Damned United',), ('Rang De Basanti',), ('Frances Ha',), ('My Life Without Me',), ('Religulous',), ('No End in Sight',), ('Nowhere Boy',), ('Saw',), (\"Dead Man's Shoes\",), ('Shine a Light',), ('Who Killed the Electric Car?',), ('Antarctica: A Year on Ice',), ('Mad Hot Ballroom',), ('Aroused',), ('The Hobbit: The Battle of the Five Armies',), ('Captain America: Civil War',), ('Wreck-It Ralph',), ('X-Men: First Class',), ('Mission: Impossible - Rogue Nation',), ('Rise of the Guardians',), ('Fast Five',), ('Star Wars: Episode III - Revenge of the Sith',), ('金陵十三釵',), ('The Man from U.N.C.L.E.',), ('Stardust',), ('Despicable Me',), ('Les Misérables',), ('Perfume: The Story of a Murderer',), ('The Equalizer',), ('Un long dimanche de fiançailles',), ('The Life Aquatic with Steve Zissou',), ('Across the Universe',), ('Argo',), ('The Social Network',), ('The Intern',), ('Chi bi',), ('The Express',), ('Source Code',), ('Stranger Than Fiction',), ('Identity',), ('Kick-Ass',), (\"My Sister's Keeper\",), ('August Rush',), ('Les petits mouchoirs',), ('Milk',), ('Nerve',), ('Reign Over Me',), ('The Proposition',), ('The Painted Veil',), ('Der Baader Meinhof Komplex',), ('The Illusionist',), ('St. Vincent',), ('This Christmas',), ('Lars and the Real Girl',), ('十面埋伏',), ('Trash',), ('좋은 놈, 나쁜 놈, 이상한 놈',), ('Red Dog',), ('The Wind That Shakes the Barley',), ('Thank You for Smoking',), ('Freeheld',), ('The Messenger',), ('Hodejegerne',), ('The Way Way Back',), ('Race',), ('Soul Kitchen',), ('Take Shelter',), ('Whale Rider',), ('El orfanato',), ('Ida',), ('Fat, Sick & Nearly Dead',), ('Kevin Hart: Let Me Explain',), ('Garden State',), ('Eye of the Dolphin',), ('[REC]',), ('American Splendor',), (\"It's All Gone Pete Tong\",), ('Deceptive Practice: The Mysteries and Mentors of Ricky Jay',), (\"Pirates of the Caribbean: Dead Man's Chest\",), ('Monsters University',), ('Hugo',), ('Maleficent',), ('The Hobbit: An Unexpected Journey',), ('Watchmen',), ('Ant-Man',), ('Sherlock Holmes: A Game of Shadows',), ('The Aviator',), ('Rise of the Planet of the Apes',), ('The Secret Life of Walter Mitty',), ('Sherlock Holmes',), ('Despicable Me 2',), ('The Terminal',), ('War Horse',), ('300',), ('Collateral',), ('Invictus',), ('Paddington',), ('The Phantom of the Opera',), ('22 Jump Street',), ('Crazy, Stupid, Love.',), ('Moneyball',), ('13 Hours: The Secret Soldiers of Benghazi',), ('The Bucket List',), ('Love Actually',), ('Lord of War',), ('The Conjuring 2',), ('The Lincoln Lawyer',), ('Lo imposible',), ('Sunshine',), ('The Master',), ('The Town',), ('The Devil Wears Prada',), ('Concussion',), ('The Young Victoria',), ('Biutiful',), ('The Maze Runner',), ('The Vow',), ('The Assassination of Jesse James by the Coward Robert Ford',), ('Goodbye Bafana',), ('Miracle',), ('Open Range',), ('Bridge to Terabithia',), ('A Madea Christmas',), ('Lords of Dogtown',), ('Carnage',), ('For Colored Girls',), ('Doubt',), ('Capitalism: A Love Story',), ('Little Boy',), ('Chasing Mavericks',), ('Blue Jasmine',), ('127 Hours',), ('Superbad',), ('Running Scared',), ('House of Sand and Fog',), ('Wild',), ('One Day',), ('The Three Burials of Melquiades Estrada',), ('The Company',), ('La Famille Bélier',), ('Mud',), ('A Better Life',), ('Janky Promoters',), ('Melancholia',), ('Mine vaganti',), ('Red Riding: In the Year of Our Lord 1974',), ('50/50',), ('Anomalisa',), ('Another Year',), ('Imagine Me & You',), ('Mr. Church',), ('Juno',), ('Beyond the Lights',), ('Shame',), ('Layer Cake',), ('Monster',), ('Mientras duermes',), ('Obsluhoval jsem anglického krále',), ('Dear Frankie',), ('放‧逐',), ('Four Lions',), ('Los cronocrímenes',), ('Fuel',), (\"Valley of the Heart's Delight\",), ('Me and You and Everyone We Know',), ('La misma luna',), ('Rocket Singh: Salesman of the Year',), ('Crying with Laughter',), ('Fireproof',), ('Sholem Aleichem: Laughing In The Darkness',), ('Scott Walker: 30 Century Man',), ('Quinceañera',), ('The Looking Glass',), ('The Motel',), ('Signed, Sealed, Delivered',), (\"Pirates of the Caribbean: At World's End\",), ('Skyfall',), ('I Am Legend',), ('Troy',), ('Master and Commander: The Far Side of the World',), ('Kung Fu Panda',), ('Divergent',), ('The Hunger Games',), ('Munich',), ('The Simpsons Movie',), ('Deux frères',), ('Agora',), ('Marley & Me',), ('Shooter',), ('Burlesque',), ('3:10 to Yuma',), ('Extremely Loud & Incredibly Close',), ('Precious',), ('The Walk',), ('A History of Violence',), ('P.S. I Love You',), ('Secondhand Lions',), ('The Next Three Days',), ('Safe Haven',), ('Notes on a Scandal',), ('The Magic Flute',), ('The Passion of the Christ',), ('August: Osage County',), ('The Greatest Game Ever Played',), ('Death at a Funeral',), ('Silver Linings Playbook',), ('The Last Song',), ('Babel',), ('Mean Girls',), ('United 93',), ('Soul Surfer',), ('RockNRolla',), ('Sideways',), ('Becoming Jane',), ('Remember Me',), ('The White Countess',), ('The Great Debaters',), ('Manderlay',), ('Little Children',), ('Think Like a Man',), ('Cadillac Records',), ('2046',), ('Duma',), ('Triangle',), ('The Best Exotic Marigold Hotel',), ('Rescue Dawn',), (\"Io sono l'amore\",), ('Hross í oss',), (\"It's Kind of a Funny Story\",), ('And When Did You Last See Your Father?',), ('Wuthering Heights',), ('Stargate: The Ark of Truth',), ('City Island',), ('Clerks II',), ('Rabbit Hole',), (\"R.L. Stine's Monsterville: The Cabinet of Souls\",), ('Holy Motors',), (\"La Marche de l'empereur\",), ('Adam',), ('María, llena eres de gracia',), ('归来',), ('Tsotsi',), ('Fish Tank',), ('Hustle & Flow',), ('Sur le seuil',), ('Freeze Frame',), ('Brotherly Love',), ('The Squid and the Whale',), ('Wal-Mart: The High Cost of Low Price',), ('Blue Valentine',), ('Transamerica',), ('Mean Creek',), ('Kita svajonių komanda',), ('疯狂的石头',), ('Så som i himmelen',), ('Blue Ruin',), ('Murderball',), ('Κυνόδοντας',), ('Shotgun Stories',), ('Bronson',), ('Burn',), ('The Call of Cthulhu',), ('Primer',), ('Iron Man 3',), ('Thor: The Dark World',), ('Mission: Impossible - Ghost Protocol',), ('Home',), ('X2',), ('The Croods',), ('Hotel Transylvania',), ('The Great Raid',), ('Grindhouse',), ('Non-Stop',), ('Charlie St. Cloud',), ('Micmacs à tire-larigot',), ('American Hustle',), ('42',), ('Jersey Boys',), (\"Dragon Nest: Warriors' Dawn\",), (\"We're the Millers\",), ('Secretariat',), ('Radio',), ('The Fountain',), ('The Curse of the Were-Rabbit',), ('Winnie the Pooh',), ('North Country',), ('Pitch Perfect 2',), ('The Jacket',), ('Dawn of the Dead',), ('Martian Child',), ('Brothers',), ('The Constant Gardener',), ('The Lucky One',), ('The Road',), ('The Water Diviner',), ('Max',), ('A Scanner Darkly',), ('The Brothers Bloom',), ('My All American',), ('Indignation',), ('Steve Jobs',), (\"Mao's Last Dancer\",), ('Veronica Guerin',), (\"Bienvenue chez les ch'tis\",), ('The Queen',), ('The Place Beyond the Pines',), ('Whatever Works',), ('Never Let Me Go',), (\"Paris, je t'aime\",), ('Trade',), ('Vera Drake',), ('The Blue Butterfly',), ('Big Eyes',), ('Owning Mahowny',), ('The Savages',), ('The Ultimate Gift',), ('Glee: The Concert Movie',), ('Flammen & Citronen',), ('Crazy Heart',), ('The Namesake',), ('The DUFF',), ('Bright Star',), ('An Education',), ('Good Night, and Good Luck.',), ('Capote',), ('The Descent',), ('Two Lovers and a Bear',), ('A Home at the End of the World',), ('Fahrenheit 9/11',), ('The Guard',), ('11:14',), ('Oorlogswinter',), ('ต้มยำกุ้ง',), ('Le Havre',), ('10 Cloverfield Lane',), ('To Write Love on Her Arms',), ('Entre les murs',), ('Beginners',), ('Water',), ('Saving Face',), ('Robot & Frank',), ('The Spectacular Now',), ('Courageous',), (\"Winter's Bone\",), ('The Diary of a Teenage Girl',), ('Inside Deep Throat',), ('Jerusalema',), ('Beasts of the Southern Wild',), ('Travellers and Magicians',), ('سكر بنات',), ('Insidious',), ('Trucker',), ('Fetching Cody',), ('La niña santa',), ('Pink Ribbons, Inc.',), ('October Baby',), ('Ajami',), ('Hard Candy',), ('Safety Not Guaranteed',), ('51 Birch Street',), ('Locker 13',), ('The Trials Of Darryl Hunt',), ('Another Earth',), ('Top Spin',), ('A True Story',), ('Flywheel',), ('Spider-Man 2',), ('World War Z',), ('Pacific Rim',), ('Brave',), ('The Chronicles of Narnia: The Lion, the Witch and the Wardrobe',), ('The Jungle Book',), ('Charlie and the Chocolate Factory',), ('The Matrix Reloaded',), ('Kung Fu Panda 2',), ('Mr. Peabody & Sherman',), ('Kung Fu Panda 3',), ('The Adventures of Tintin',), ('Megamind',), ('I, Robot',), ('The Princess and the Frog',), ('Cinderella',), ('Valkyrie',), ('Now You See Me 2',), ('Seabiscuit',), ('The Holiday',), ('Arthur Christmas',), ('Cold Mountain',), ('Hotel Transylvania 2',), ('Shrek 2',), ('Escape Plan',), ('Lincoln',), ('Focus',), ('We Are Marshall',), ('Oliver Twist',), ('Everest',), (\"Michael Jackson's This Is It\",), ('ParaNorman',), ('State of Play',), ('Beyond Borders',), ('Flags of Our Fathers',), ('Zero Dark Thirty',), ('Revolutionary Road',), ('The Ghost Writer',), ('21 Jump Street',), ('The Proposal',), ('Eight Below',), ('Rent',), ('Snowpiercer',), (\"The Time Traveler's Wife\",), ('Water for Elephants',), ('Dolphin Tale',), ('Dolphin Tale 2',), ('In Time',), ('Closer',), ('Step Up Revolution',), ('The Young and Prodigious T.S. Spivet',), ('The SpongeBob SquarePants Movie',), ('Up in the Air',), ('Four Brothers',), ('Wicker Park',), ('An Unfinished Life',), ('The Merchant of Venice',), ('Joyful Noise',), ('The Duchess',), ('Anchorman: The Legend of Ron Burgundy',), ('Legend',), ('Molière',), ('Away We Go',), ('School of Rock',), ('The Descendants',), ('Holes',), ('Orphan',), (\"The World's End\",), ('Endless Love',), ('Let Me In',), ('The Last Station',), ('Labor Day',), ('The Railway Man',), ('Metallica: Through the Never',), ('Carlos',), ('Renaissance',), ('The Best Man Holiday',), ('Vicky Cristina Barcelona',), ('Things We Lost in the Fire',), ('Zulu',), ('U2 3D',), ('Whip It',), ('A Mighty Heart',), ('新宿事件',), ('剑雨',), ('Seven Psychopaths',), ('Miracles from Heaven',), ('The Mist',), ('Step Up',), ('괴물',), ('The Gift',), ('Gunless',), ('Repo! The Genetic Opera',), ('Akeelah and the Bee',), ('Easy A',), ('Harry Brown',), ('Definitely, Maybe',), ('Mother and Child',), ('Hesher',), ('Трудно быть богом',), ('The Chumscrubber',), ('No Escape',), ('Les Invasions barbares',), ('Green Room',), ('The Cooler',), ('Casa de Areia',), ('Trolljegeren',), ('Winter Passing',), ('Margin Call',), ('Bella',), ('Sinister',), ('Sommersturm',), ('Thirteen',), ('Eden Lake',), ('Coffee Town',), ('Northfork',), ('வாலு',), ('Waitress',), ('An Inconvenient Truth',), ('The Skeleton Twins',), ('Martha Marcy May Marlene',), ('Obvious Child',), ('Frozen River',), ('Wristcutters: A Love Story',), ('Latter Days',), ('Napoleon Dynamite',), ('Supporting Characters',), ('Clean',), ('King Kong',), ('The Good Dinosaur',), ('Star Trek Beyond',), ('A Christmas Carol',), ('Iron Man 2',), ('The Hunger Games: Mockingjay - Part 2',), ('Transformers',), ('Thor',), ('Captain America: The First Avenger',), ('Rango',), ('The Hunger Games: Mockingjay - Part 1',), ('Real Steel',), (\"Ender's Game\",), ('Kingdom of Heaven',), ('Cloud Atlas',), ('The Lovely Bones',), ('Enchanted',), ('Dredd',), ('The Book of Eli',), ('Madagascar',), ('50 First Dates',), ('Dreamgirls',), ('Jarhead',), ('Cars',), ('2 Guns',), ('The Italian Job',), ('RED',), ('The Boxtrolls',), ('Trouble with the Curve',), ('The Soloist',), ('Sinbad: Legend of the Seven Seas',), ('Elizabeth: The Golden Age',), ('Super 8',), ('Free State of Jones',), ('Chappie',), ('The Infiltrator',), (\"The Hitchhiker's Guide to the Galaxy\",), ('Blended',), ('滿城盡帶黃金甲',), ('Unleashed',), ('Julie & Julia',), ('Big Miracle',), ('Disturbia',), ('The Hunting Party',), ('Frankenweenie',), ('Walk Hard: The Dewey Cox Story',), ('Goal!: The Dream Begins',), ('Looper',), ('Letters to Juliet',), ('Step Up 3D',), ('Take the Lead',), ('9',), ('Love & Other Drugs',), ('Florence Foster Jenkins',), ('Pineapple Express',), ('Million Dollar Arm',), ('Dear John',), ('Me and Orson Welles',), ('Old School',), ('In the Valley of Elah',), ('Coco avant Chanel',), ('Underworld',), ('Tinker Tailor Soldier Spy',), ('Team America: World Police',), ('The Bank Job',), (\"I'm Not There.\",), ('三国之见龙卸甲',), ('Black Snake Moan',), ('刺客聶隱娘',), ('The Call',), ('Chronicle',), ('Crank',), ('Two Lovers',), ('Kinsey',), ('My Week with Marilyn',), ('Danny Collins',), ('The Purge: Anarchy',), ('Harold & Kumar Go to White Castle',), ('실미도',), ('All Is Lost',), ('Namastey London',), ('Enough Said',), ('Made in Dagenham',), ('Fido',), ('Loin des hommes',), (\"The Devil's Rejects\",), ('A Serious Man',), ('A Mighty Wind',), ('Shattered Glass',), (\"Grandma's Boy\",), ('Bottle Shock',), ('Kill the Messenger',), ('Standard Operating Procedure',), ('Blackthorn',), ('Mirrormask',), ('Trust',), ('The Loved Ones',), ('The History Boys',), ('Slow West',), ('Freakonomics',), ('Haute tension',), ('Super',), ('Do You Believe?',), ('It Follows',), ('The Ghastly Love of Johnny X',), ('Buried',), ('Road Hard',), ('Pontypool',), ('The Sessions',), ('Taxi to the Dark Side',), ('Special',), ('Bang Bang Baby',), ('Saints and Soldiers',), ('Exam',), ('Middle of Nowhere',), ('Facing the Giants',), ('Super Size Me',), ('This Is Martin Bonner',), ('Man of Steel',), ('The Amazing Spider-Man',), ('Jurassic World',), ('The Amazing Spider-Man 2',), ('シン・ゴジラ',), ('Alice Through the Looking Glass',), ('Angels & Demons',), ('Mission: Impossible III',), ('Penguins of Madagascar',), ('The Da Vinci Code',), ('Mr. & Mrs. Smith',), ('The Island',), ('Public Enemies',), (\"Legend of the Guardians: The Owls of Ga'Hoole\",), ('In the Heart of the Sea',), ('The Peanuts Movie',), ('Cloudy with a Chance of Meatballs',), ('Ice Age: Dawn of the Dinosaurs',), ('Tropic Thunder',), ('Rio',), (\"Ocean's Thirteen\",), ('Hellboy II: The Golden Army',), ('Hidalgo',), ('Ice Age: The Meltdown',), ('Hairspray',), (\"Charlie Wilson's War\",), ('The Kingdom',), ('Body of Lies',), ('Step Brothers',), ('Mona Lisa Smile',), ('Hellboy',), ('Just Like Heaven',), ('The Adjustment Bureau',), ('We Bought a Zoo',), ('Fair Game',), ('Anna Karenina',), ('The Muppets',), ('The Heat',), ('I Love You, Man',), ('Unknown',), ('The Lake House',), ('The Odd Life of Timothy Green',), ('Paul',), ('Colombiana',), ('Marie Antoinette',), ('Pandorum',), ('Un monstre à Paris',), ('Burn After Reading',), ('葉問3',), ('Horrible Bosses',), ('21',), ('Friends with Benefits',), ('The Tree of Life',), ('A Good Year',), ('Mandela: Long Walk to Freedom',), ('Bridesmaids',), ('Flight',), ('The Cabin in the Woods',), ('Hanna',), ('Gridiron Gang',), ('キャプテンハーロック',), ('We Own the Night',), ('Money Monster',), ('A Lot Like Love',), ('EuroTrip',), ('Draft Day',), ('一個人的武林',), ('Rocky Balboa',), ('Beyond the Sea',), ('The Ides of March',), ('The Longshots',), ('十月圍城',), ('1408',), ('Out of the Furnace',), ('Michael Clayton',), ('This Is Where I Leave You',), ('Death Sentence',), (\"Everybody's Fine\",), ('Inherent Vice',), ('A Most Violent Year',), ('黃石的孩子',), (\"The Devil's Double\",), ('Borat: Cultural Learnings of America for Make Benefit Glorious Nation of Kazakhstan',), ('Bad Santa',), ('Монгол',), ('Step Up 2: The Streets',), ('Chasseurs de dragons',), ('Trance',), ('해운대',), ('28 Weeks Later',), ('A Most Wanted Man',), ('Transsiberian',), ('Banlieue 13',), ('Find Me Guilty',), ('Project X',), ('Katy Perry: Part of Me',), ('Charlie Bartlett',), ('Stoker',), ('Ondine',), ('Sorstalanság',), ('Black or White',), ('Killer Joe',), ('Rosewater',), (\"World's Greatest Dad\",), ('Jungle Shuffle',), ('Bon Cop Bad Cop',), ('Get Low',), ('Bride & Prejudice',), ('Alpha and Omega: The Legend of the Saw Tooth Cave',), ('The East',), ('Bernie',), ('Insidious: Chapter 2',), ('Sunshine Cleaning',), ('Des hommes et des dieux',), ('Snabba Cash',), ('The Kids Are All Right',), ('The Art of Getting By',), ('Joe',), ('Desert Dancer',), ('Defendor',), ('Letters to God',), (\"Meek's Cutoff\",), ('I Love Your Work',), ('The Gatekeepers',), ('The Ballad of Jack and Rose',), ('Snow Angels',), ('Housebound',), ('The Hammer',), ('London to Brighton',), ('Aqua Teen Hunger Force Colon Movie Film for Theaters',), ('The Sisterhood of Night',), ('Half Nelson',), ('Enter Nowhere',), ('The Grace Card',), ('H.',), (\"Your Sister's Sister\",), ('The Birth of a Nation',), ('Pirates of the Caribbean: On Stranger Tides',), ('Alice in Wonderland',), ('X-Men: Apocalypse',), ('The Polar Express',), ('The Matrix Revolutions',), ('White House Down',), (\"Madagascar 3: Europe's Most Wanted\",), ('Puss in Boots',), ('Elysium',), ('Oblivion',), (\"Ocean's Twelve\",), ('Live Free or Die Hard',), ('National Treasure',), ('Where the Wild Things Are',), ('Epic',), ('Green Zone',), ('The Rundown',), ('Bruce Almighty',), ('RED 2',), ('Évolution',), ('Cloudy with a Chance of Meatballs 2',), ('Wanted',), ('Tears of the Sun',), ('Minions',), ('Maze Runner: The Scorch Trials',), ('Joy',), ('Hitch',), ('The Pirates! In an Adventure with Scientists!',), ('Mamma Mia!',), ('Yes Man',), ('Last Holiday',), ('Love in the Time of Cholera',), ('Underworld: Evolution',), ('Secret Window',), ('The Skeleton Key',), ('The Other Boleyn Girl',), ('The Ugly Truth',), ('The Nativity Story',), ('Elf',), ('Warm Bodies',), ('Forgetting Sarah Marshall',), ('Side Effects',), ('Get on Up',), ('The New World',), ('Machine Gun Preacher',), ('Савва. Сердце воина',), ('Role Models',), ('Last Vegas',), ('Cloverfield',), ('The Grey',), ('Nanny McPhee',), ('The Giver',), (\"She's the Man\",), ('The Hoax',), ('Blindness',), ('Think Like a Man Too',), ('Homefront',), ('Never Back Down',), ('Jackass 3D',), (\"Pooh's Heffalump Movie\",), ('Ghost Town',), ('Mrs Henderson Presents',), ('Connie and Carla',), ('Steamboy',), ('Leap Year',), ('Under the Tuscan Sun',), ('Being Julia',), ('Madea Goes to Jail',), (\"Let's Be Cops\",), (\"Smokin' Aces\",), ('Evil Dead',), ('The Young Messiah',), ('Arn: Tempelriddaren',), ('The Homesman',), ('The Yellow Handkerchief',), ('Confidence',), ('Bobby',), ('Catch a Fire',), ('Infamous',), ('I Love You Phillip Morris',), ('The Upside of Anger',), ('Girl with a Pearl Earring',), ('Project Almanac',), ('Jackass Number Two',), ('For Greater Glory - The True Story of Cristiada',), (\"Nick and Norah's Infinite Playlist\",), ('A Prairie Home Companion',), ('Kit Kittredge: An American Girl',), ('Bad Words',), ('The Iceman',), ('Severance',), ('Welcome to the Rileys',), ('Eulogy',), ('Adam Resurrected',), ('Partition',), ('Adventureland',), ('Wild Target',), ('Swimming Pool',), ('Black November',), ('The Neon Demon',), ('Redbelt',), ('The Words',), ('Wish I Was Here',), ('[REC]²',), ('Diary of a Mad Black Woman',), ('Scoop',), ('Praia do Futuro',), ('The Dead Girl',), (\"Dave Chappelle's Block Party\",), ('The Missing Person',), ('The Greatest Movie Ever Sold',), ('Closer to the Moon',), ('Palo Alto',), ('A LEGO Brickumentary',), ('Loving Annabelle',), ('Celeste & Jesse Forever',), ('Lonesome Jim',), ('Pieces of April',), ('Wendy and Lucy',), ('Like Crazy',), ('Ink',), ('Peace, Propaganda & the Promised Land',), ('Tiger Orange',), ('The Exploding Girl',), ('Spectre',), ('The Chronicles of Narnia: Prince Caspian',), ('X-Men: The Last Stand',), ('TRON: Legacy',), ('Warcraft',), ('Bolt',), ('Bad Boys II',), ('Australia',), ('Rio 2',), ('Prometheus',), ('The Chronicles of Riddick',), ('The Wolverine',), ('Night at the Museum',), ('The Spiderwick Chronicles',), ('Unstoppable',), ('Safe House',), ('Over the Hedge',), (\"Something's Gotta Give\",), ('Just Go with It',), ('Eagle Eye',), ('Monster House',), ('The Finest Hours',), ('Sin City: A Dame to Kill For',), ('Jack Reacher',), ('Flyboys',), ('The Forbidden Kingdom',), ('Black Mass',), ('Ted',), ('How to Lose a Guy in 10 Days',), ('Syriana',), ('Silent Hill',), ('Run All Night',), ('Miracle at St. Anna',), ('The Mechanic',), (\"The Warrior's Way\",), ('Lucy',), (\"Get Rich or Die Tryin'\",), ('Soul Men',), ('投名狀',), ('一代宗師',), ('The House of Magic',), ('Safe',), ('This Is the End',), ('The Number 23',), ('Dreamer: Inspired By a True Story',), ('13 Going on 30',), ('Pride and Glory',), ('The Imaginarium of Doctor Parnassus',), ('Miss Potter',), ('Kick-Ass 2',), ('Anonymous',), ('Mindhunters',), ('Self/less',), ('The Sisterhood of the Traveling Pants',), ('The Girl Next Door',), ('Hot Rod',), ('Белка и Стрелка. Звёздные собаки',), ('The Beaver',), ('White Chicks',), ('Bad Moms',), ('The Debt',), ('Street Kings',), ('Stick It',), ('Appaloosa',), ('Burnt',), ('Passchendaele',), ('Flash of Genius',), ('Butterfly on a Wheel',), ('The Exorcism of Emily Rose',), ('Diary of a Wimpy Kid: Rodrick Rules',), ('Good',), ('Slither',), ('When the Game Stands Tall',), ('De-Lovely',), ('Funny Games',), ('Magic Mike XXL',), ('Easy Virtue',), ('Mr. Turner',), ('The Lucky Ones',), ('Attack the Block',), ('Machete',), ('The Perfect Game',), ('Act of Valor',), ('Top Five',), ('Space Battleship Yamato',), ('三城记',), ('Quartet',), ('The Second Best Exotic Marigold Hotel',), ('Seeking a Friend for the End of the World',), ('Imaginary Heroes',), ('The Runaways',), ('Chasing Papi',), ('Awake',), ('10th & Wolf',), ('Wah-Wah',), ('A Shine of Rainbows',), ('Saw II',), ('Lights Out',), ('Oculus',), ('Not Easily Broken',), ('Saved!',), ('The Cottage',), ('The Awakening',), ('Driving Lessons',), ('Life During Wartime',), ('Ночной дозор',), ('The Witch',), ('Fort McCoy',), ('Barry Munday',), ('Idiocracy',), ('We Are Your Friends',), ('Harsh Times',), ('Shortbus',), ('Sherrybaby',), ('I Spit on Your Grave',), ('Home Run',), ('Osama',), ('Old Joy',), ('Compliance',), ('Drei',), ('Sound of My Voice',), ('Cheap Thrills',), ('Down Terrace',), ('My Date with Drew',), ('Men in Black 3',), ('Robin Hood',), ('Prince of Persia: The Sands of Time',), ('Tomorrowland',), ('The Chronicles of Narnia: The Voyage of the Dawn Treader',), ('Hancock',), ('Madagascar: Escape 2 Africa',), ('X-Men Origins: Wolverine',), ('War of the Worlds',), ('Salt',), ('The Day After Tomorrow',), ('Insurgent',), ('The Taking of Pelham 1 2 3',), ('Ice Age: Continental Drift',), ('The Interpreter',), (\"It's Complicated\",), ('The Hangover Part II',), ('The Longest Yard',), ('The Manchurian Candidate',), ('2 Fast 2 Furious',), ('Hostage',), ('Talladega Nights: The Ballad of Ricky Bobby',), ('The Village',), ('Olympus Has Fallen',), ('Dracula Untold',), ('Ted 2',), ('Due Date',), ('Ladder 49',), ('Contagion',), ('Gangster Squad',), ('Edge of Darkness',), ('The Mortal Instruments: City of Bones',), ('Goosebumps',), ('Muppets Most Wanted',), ('Central Intelligence',), ('Curious George',), ('Ninja Assassin',), ('Basic',), ('Savages',), ('16 Blocks',), ('Man on a Ledge',), (\"He's Just Not That Into You\",), ('Vantage Point',), ('The Other Woman',), ('Music and Lyrics',), ('Riddick',), ('City of Ember',), ('Underworld: Rise of the Lycans',), ('Premium Rush',), ('Transporter 2',), ('Repo Men',), ('Vacation',), ('DodgeBall: A True Underdog Story',), ('Drag Me to Hell',), ('30 Days of Night',), ('Once Upon a Time in Mexico',), ('Taking Woodstock',), ('How to Lose Friends & Alienate People',), ('Knocked Up',), ('Rendition',), ('The 40 Year Old Virgin',), ('A Walk Among the Tombstones',), ('Red Eye',), ('The Losers',), ('The Conspirator',), ('Ironclad',), ('Delivery Man',), ('I Heart Huckabees',), ('Before I Go to Sleep',), ('Secret in Their Eyes',), (\"What's Your Number?\",), ('Be Kind Rewind',), ('A Dangerous Method',), ('The Crazies',), ('Take Me Home Tonight',), ('Neighbors',), ('The Family Stone',), ('Midnight Special',), ('Anything Else',), (\"Brooklyn's Finest\",), ('The Immigrant',), ('The Last House on the Left',), ('The Wedding Date',), ('Good Deeds',), ('The Iron Lady',), ('A Perfect Getaway',), ('The Shallows',), ('The Astronaut Farmer',), ('Harold & Kumar Escape from Guantanamo Bay',), ('High School Musical 3: Senior Year',), ('Copying Beethoven',), ('Insidious: Chapter 3',), (\"Pete's Dragon\",), ('The Matador',), ('Run Fatboy Run',), ('Elsa & Fred',), ('Gentlemen Broncos',), ('Code 46',), ('Albert Nobbs',), ('Factory Girl',), ('Goddess of Love',), ('The Wackness',), ('The Greatest',), ('Wonderland',), ('Animals',), ('Lovely, Still',), ('Redacted',), ('A Cock and Bull Story',), ('Nannerl, la soeur de Mozart',), ('You Kill Me',), ('Stake Land',), ('Another Happy Day',), ('A Lonely Place to Die',), ('August',), ('The Last Sin Eater',), ('La chambre bleue',), ('Waiting...',), ('The Perfect Host',), ('Alone With Her',), ('Heli',), ('Starsuckers',), ('To Save A Life',), ('Monsters',), ('Conversations with Other Women',), ('Bizarre',), ('The Puffy Chair',), ('John Carter',), ('Quantum of Solace',), ('Transformers: Dark of the Moon',), ('Rush Hour 3',), ('The Twilight Saga: Breaking Dawn - Part 2',), ('The Incredible Hulk',), ('Turbo',), ('Night at the Museum: Secret of the Tomb',), ('300: Rise of an Empire',), ('The Other Guys',), ('The Expendables 2',), ('The Expendables 3',), ('Open Season',), ('The Fast and the Furious: Tokyo Drift',), ('Underworld: Awakening',), ('Killer Elite',), ('Need for Speed',), ('Zathura: A Space Adventure',), ('Astro Boy',), ('Meet the Fockers',), ('The Internship',), ('Flightplan',), ('Gods and Generals',), ('Elizabethtown',), ('From Paris with Love',), ('American Reunion',), ('Resident Evil: Apocalypse',), ('Bridget Jones: The Edge of Reason',), ('Out of Time',), ('Child 44',), ('Taken 3',), ('Taken 2',), ('Resident Evil: Extinction',), ('Cellular',), ('The Producers',), ('The Interview',), ('Ride Along 2',), ('17 Again',), ('Horrible Bosses 2',), ('Scream 4',), ('Morning Glory',), ('The Punisher',), ('27 Dresses',), ('Chasing Liberty',), ('No Reservations',), ('Alexander and the Terrible, Horrible, No Good, Very Bad Day',), ('Case 39',), ('Pain & Gain',), ('The Raven',), ('W.',), ('Ride Along',), ('No Strings Attached',), ('Hide and Seek',), ('Contraband',), (\"Mr. Bean's Holiday\",), ('Stop-Loss',), ('Cirque du Soleil: Worlds Away',), ('Zack and Miri Make a Porno',), ('Faster',), ('Derailed',), ('Why Did I Get Married Too?',), ('One Night with the King',), ('長江七號',), ('Hands of Stone',), ('The Frozen Ground',), ('A Cinderella Story',), ('The Hills Have Eyes',), ('Escobar: Paradise Lost',), ('Why Did I Get Married?',), ('The Woman in Black',), ('Because of Winn-Dixie',), ('Ramona and Beezus',), ('Flicka',), ('Stomp the Yard',), ('Margaret',), ('Paper Towns',), ('Just Wright',), ('Rachel Getting Married',), ('Arbitrage',), ('Married Life',), ('The Life Before Her Eyes',), ('कभी अलविदा ना कहना',), ('Saw III',), ('The Purge: Election Year',), ('Roll Bounce',), ('End of the Spear',), ('Jeff, Who Lives at Home',), ('The Joneses',), ('Fifty Dead Men Walking',), ('Plastic',), ('Hamlet 2',), ('Opal Dream',), ('That Awkward Moment',), ('Maurice Richard',), ('The Work and the Glory',), ('Magic Mike',), ('Cyrus',), ('High School Musical 2',), ('Shade',), ('As Above, So Below',), ('Christmas Eve',), ('Salvando al Soldado Perez',), ('High School Musical',), ('Thumbsucker',), ('Adore',), ('Feast',), ('DysFunktional Family',), ('The Eclipse',), ('Chicago Overcoat',), ('Griff the Invisible',), ('The Other End of the Line',), ('House of D',), ('London',), ('Grave Encounters',), ('Eddie: The Sleepwalking Cannibal',), ('Lake Mungo',), ('The Poker House',), ('The Quiet',), ('Død snø',), ('Good Dick',), ('Mutual Appreciation',), ('Transformers: Revenge of the Fallen',), ('Monsters vs Aliens',), ('Shrek Forever After',), ('Shrek the Third',), ('Flushed Away',), ('The BFG',), ('The Bourne Legacy',), (\"The Huntsman: Winter's War\",), ('San Andreas',), ('The Tourist',), ('Percy Jackson & the Olympians: The Lightning Thief',), ('Click',), ('The Expendables',), ('Get Smart',), ('Robots',), ('Arthur et les Minimoys',), ('Grown Ups',), ('Rock of Ages',), ('Annie',), ('Death Race',), (\"Winter's Tale\",), ('Inkheart',), ('西游记之孙悟空三打白骨精',), ('After the Sunset',), ('Walking Tall',), ('American Wedding',), ('The Hunted',), ('Anchorman 2: The Legend Continues',), ('Shanghai Knights',), ('Hannibal Rising',), ('The Host',), ('The International',), ('Domino',), ('The Princess Diaries 2: Royal Engagement',), ('Johnny English',), ('Johnny English Reborn',), ('Here Comes the Boom',), ('Cheaper by the Dozen',), ('Predators',), ('Made of Honor',), ('A Thousand Words',), ('Grudge Match',), ('Hot Tub Time Machine',), ('TMNT',), ('The Ladykillers',), ('J. Edgar',), ('Mirrors',), ('Nanny McPhee and the Big Bang',), ('Wimbledon',), ('Lions for Lambs',), ('Takers',), ('Going the Distance',), ('Extraordinary Measures',), ('Hannah Montana: The Movie',), ('Assault on Precinct 13',), ('Fright Night',), ('The Good Thief',), ('3 Days to Kill',), ('The Sisterhood of the Traveling Pants 2',), ('Freaky Friday',), ('Blood Ties',), ('War',), ('The 33',), ('The Bad Lieutenant: Port of Call - New Orleans',), ('Love Ranch',), ('The Game Plan',), ('The Informant!',), ('Our Kind of Traitor',), ('Diary of a Wimpy Kid: Dog Days',), ('Metegol',), ('A Very Harold & Kumar Christmas',), ('You Again',), ('Daybreakers',), ('Monte Carlo',), ('The Weather Man',), ('The Tempest',), ('I Can Do Bad All By Myself',), ('Sex Drive',), ('The Amityville Horror',), ('Land of the Dead',), ('The Invention of Lying',), ('Honey',), ('Red Lights',), ('Beastly',), ('ATL',), ('Sydney White',), ('Mama',), ('Jackass Presents: Bad Grandpa',), ('Keanu',), ('The November Man',), ('Raise Your Voice',), ('Promised Land',), ('Ong Bak 2',), ('The Midnight Meat Train',), ('Under the Skin',), ('About Last Night',), ('The Killer Inside Me',), ('Casino Jack',), ('Heaven is for Real',), ('Saw VI',), ('Romance & Cigarettes',), (\"Madea's Family Reunion\",), ('Wrong Turn',), ('My Blueberry Nights',), ('Edmond',), ('Blood Done Sign My Name',), ('The Lost City',), ('Kites',), ('Gracie',), ('Ta Ra Rum Pum',), ('Jumping the Broom',), ('House of 1000 Corpses',), ('Somewhere',), ('Ca$h',), ('Tracker',), ('Grabbers',), ('Everything Must Go',), ('Gandhi, My Father',), ('The Visit',), ('The Good Heart',), ('Choke',), ('The Purge',), ('Please Give',), ('Sleep Dealer',), ('Circle',), ('My Summer of Love',), ('Grace Unplugged',), ('Forty Shades of Blue',), ('Amigo',), ('Last I Heard',), ('Grand Theft Parsons',), ('Faith Like Potatoes',), ('The House of the Devil',), ('Kill List',), ('Médecin de campagne',), ('Julija in Alfa Romeo',), ('Drinking Buddies',), (\"Alleluia! The Devil's Carnival\",), ('Maniac',), ('Yesterday Was a Lie',), ('The Dirties',), ('Rampage',), ('Dry Spell',), ('On The Downlow',), ('Spider-Man 3',), ('The Lone Ranger',), ('Terminator Salvation',), ('Suicide Squad',), ('47 Ronin',), ('Terminator 3: Rise of the Machines',), ('Night at the Museum: Battle of the Smithsonian',), ('Pan',), ('Fun with Dick and Jane',), ('Jason Bourne',), ('Knight and Day',), ('Allegiant',), (\"Surf's Up\",), ('Transcendence',), ('Percy Jackson: Sea of Monsters',), ('Happy Feet',), ('Jumper',), ('Bedtime Stories',), ('The Legend of Zorro',), ('Surrogates',), ('The Secret Life of Pets',), ('Sucker Punch',), ('The Angry Birds Movie',), (\"Legends of Oz: Dorothy's Return\",), ('World Trade Center',), ('The Dictator',), ('This Means War',), ('天將雄師',), ('Blades of Glory',), ('Paycheck',), ('Jack Ryan: Shadow Recruit',), ('Righteous Kill',), ('Red Tails',), ('Date Night',), ('The Change-Up',), ('Knowing',), ('I Am Number Four',), ('Raising Helen',), ('Get Hard',), ('Get Him to the Greek',), ('Shall We Dance?',), ('Final Destination 5',), ('Fever Pitch',), ('Duplex',), ('The Last Shot',), ('How to Be Single',), ('There Be Dragons',), ('Trainwreck',), ('Something Borrowed',), ('Untraceable',), ('Ella Enchanted',), ('The Good German',), ('Bride Wars',), ('The Prince & Me',), ('Deliver Us from Evil',), ('Dead Man Down',), ('Le petit Nicolas',), ('The Statement',), ('Final Destination 2',), ('In Good Company',), ('Ice Princess',), ('Where the Truth Lies',), ('The Men Who Stare at Goats',), ('Chéri',), ('Son of God',), ('The Libertine',), ('Mad Money',), (\"Madea's Witness Protection\",), ('Lakeview Terrace',), (\"She's Out of My League\",), ('Crank: High Voltage',), ('Battle of the Year',), ('Birth',), ('All Good Things',), ('The Switch',), ('風暴',), ('Youth in Revolt',), ('Hoodwinked!',), ('Hitman',), ('The Texas Chainsaw Massacre: The Beginning',), ('Diary of a Wimpy Kid',), ('Krampus',), ('Country Strong',), (\"VeggieTales: The Pirates Who Don't Do Anything\",), ('Centurion',), ('Resurrecting the Champ',), ('Chloe',), ('Womb',), ('For Your Consideration',), ('Saw V',), ('LOL',), ('Saw IV',), ('Cedar Rapids',), ('The Collection',), ('Coriolanus',), ('The I Inside',), ('The Boondock Saints II: All Saints Day',), ('Down in the Valley',), ('The Singing Detective',), ('The Extra Man',), ('Come Early Morning',), ('Don Jon',), ('Miss Julie',), ('Paranormal Activity 3',), ('Our Idiot Brother',), ('Sea Rex 3D: Journey to a Prehistoric World',), ('Party Monster',), ('Out of the Blue',), ('Cargo',), ('Red State',), ('Saint John of Las Vegas',), ('Slacker Uprising',), ('Yes',), ('My Name Is Bruce',), ('Incident at Loch Ness',), ('The Hebrew Hammer',), ('Filly Brown',), ('All the Real Girls',), ('Vessel',), ('Rize',), ('Good Kill',), ('Poultrygeist: Night of the Chicken Dead',), ('Paranormal Activity',), ('On the Outs',), (\"A Dog's Breakfast\",), ('Newlyweds',), ('The Golden Compass',), ('Transformers: Age of Extinction',), ('Cars 2',), ('Snow White and the Huntsman',), (\"The Sorcerer's Apprentice\",), ('Terminator Genisys',), ('Happy Feet Two',), ('Teenage Mutant Ninja Turtles',), ('Teenage Mutant Ninja Turtles: Out of the Shadows',), ('The Alamo',), ('Alvin and the Chipmunks: The Road Chip',), ('Tower Heist',), (\"Charlotte's Web\",), ('Grown Ups 2',), ('Journey 2: The Mysterious Island',), ('Shark Tale',), ('Spanglish',), ('Carriers',), ('The SpongeBob Movie: Sponge Out of Water',), ('S.W.A.T.',), ('The Monuments Men',), ('Wall Street: Money Never Sleeps',), ('The Twilight Saga: Eclipse',), ('Eat Pray Love',), ('The Tale of Despereaux',), ('London Has Fallen',), ('The Sentinel',), ('Intolerable Cruelty',), ('Resident Evil: Afterlife',), ('The Pacifier',), (\"Daddy's Home\",), ('Into the Storm',), ('Hereafter',), ('Into the Blue',), ('Dream House',), ('Scary Movie 3',), ('Journey to the Center of the Earth',), ('Along Came Polly',), ('Gothika',), ('A Million Ways to Die in the West',), ('Because I Said So',), (\"What to Expect When You're Expecting\",), ('Twilight',), ('A Man Apart',), ('The Rite',), ('Sky High',), ('Must Love Dogs',), ('Jersey Girl',), ('Bandidas',), ('Doomsday',), ('Hope Springs',), ('Baby Mama',), ('Carrie',), ('Sanctum',), ('Grace of Monaco',), ('Just My Luck',), ('Our Brand Is Crisis',), ('Freddy vs. Jason',), ('Final Destination 3',), ('What a Girl Wants',), ('Cradle 2 the Grave',), ('The Possession',), ('Forsaken',), ('Swing Vote',), ('Premonition',), ('Man of the Year',), ('The American',), ('Nancy Drew',), ('Paparazzi',), ('Lockout',), ('Willard',), ('The Game of Their Lives',), (\"Won't Back Down\",), ('逃出生天',), ('Black Nativity',), ('Beerfest',), ('Saw 3D',), ('Fur: An Imaginary Portrait of Diane Arbus',), ('Snitch',), ('Killing Them Softly',), ('You Will Meet a Tall Dark Stranger',), ('Khumba',), ('Freedom',), ('Les herbes folles',), ('In the Land of Blood and Honey',), ('인천상륙작전',), ('Solitary Man',), ('Aquamarine',), ('Running with Scissors',), ('5 Days of War',), ('In the Land of Women',), ('The Grudge',), ('The Boy',), ('Devil',), ('Sparkle',), ('The Fourth Kind',), (\"While We're Young\",), ('Cinco de Mayo: La Batalla',), ('Free Style',), (\"Breakin' All the Rules\",), ('Barbecue',), ('Veronika Decides to Die',), ('Brooklyn Rules',), ('The Death and Life of Bobby Z',), ('Outside Bet',), ('The Christmas Candle',), ('Dom Hemingway',), ('Z 風暴',), ('Criminal Activities',), ('Ricordati di me',), ('The Oh in Ohio',), ('Dead Like Me: Life After Death',), ('What the #$*! Do We (K)now!?',), ('Nothing',), ('Ira & Abby',), (\"Love's Abiding Joy\",), ('Never Back Down 2: The Beatdown',), ('Rockaway',), ('The Marine 4: Moving Target',), ('Chacun sa nuit',), ('Abandoned',), ('The Lion of Judah',), ('Blue Like Jazz',), ('The Brass Teapot',), ('For a Good Time, Call...',), ('High Road',), ('What Happens in Vegas',), ('Baghead',), ('When the Lights Went Out',), ('Absentia',), ('The Signal',), ('Batman v Superman: Dawn of Justice',), ('Oz: The Great and Powerful',), ('Indiana Jones and the Kingdom of the Crystal Skull',), ('Dark Shadows',), ('Bee Movie',), ('Sahara',), ('RoboCop',), ('Speed Racer',), ('Home on the Range',), ('Around the World in 80 Days',), ('The Last Witch Hunter',), ('The Invasion',), ('The League of Extraordinary Gentlemen',), ('Hotel for Dogs',), ('Killers',), ('Immortals',), ('Flight of the Phoenix',), ('Funny People',), ('Sky Captain and the World of Tomorrow',), ('Blade: Trinity',), ('Cheaper by the Dozen 2',), ('Duplicity',), ('The Black Dahlia',), ('Leatherheads',), (\"Mr. Popper's Penguins\",), ('Free Birds',), ('Imagine That',), (\"All the King's Men\",), (\"Valentine's Day\",), ('Hansel & Gretel: Witch Hunters',), ('Escape from Planet Earth',), ('The Back-Up Plan',), ('Broken City',), ('Parker',), ('The Big Wedding',), ('Criminal',), ('Larry Crowne',), ('The Five-Year Engagement',), ('88 Minutes',), ('The Last Stand',), ('Brick Mansions',), ('Welcome Home Roscoe Jenkins',), (\"New Year's Eve\",), ('The Fifth Estate',), ('Parental Guidance',), ('The Gambler',), ('Hail, Caesar!',), ('Risen',), ('12 Rounds',), ('Bon voyage',), ('And So It Goes',), ('Wolves',), ('How to Deal',), ('The Lizzie McGuire Movie',), ('The Good Night',), ('Our Family Wedding',), ('Earth to Echo',), ('21 & Over',), ('Dirty Grandpa',), ('Jindabyne',), ('The Oxford Murders',), ('Detention',), ('The City of Your Final Destination',), ('Prom',), ('Shopgirl',), ('Extract',), ('I Hope They Serve Beer in Hell',), ('La fleur du mal',), ('Hostel',), ('Savage Grace',), ('The Sweeney',), ('Purple Violets',), ('Antiviral',), ('Paranormal Activity 2',), ('Hobo with a Shotgun',), ('The Divide',), ('Impact Point',), ('Jack Brooks: Monster Slayer',), ('Small Apartments',), ('I Want Someone to Eat Cheese With',), ('Hatchet',), ('Los insólitos peces gato',), ('Beyond the Black Rainbow',), (\"God's Not Dead 2\",), ('My Last Day Without You',), ('Truth or Dare',), ('Banshee Chapter',), ('All the Boys Love Mandy Lane',), ('Rubber',), ('Some Guy Who Kills People',), ('The Christmas Bunny',), ('The Image Revolution',), ('Shanghai Calling',), ('2012',), ('G.I. Joe: The Rise of Cobra',), ('Alexander',), ('Exodus: Gods and Kings',), ('Noah',), ('Clash of the Titans',), ('Hercules',), ('The Campaign',), ('Pixels',), ('The Three Musketeers',), ('The Pink Panther',), ('The Brothers Grimm',), ('Looney Tunes: Back in Action',), ('Resident Evil: Retribution',), ('Wild Hogs',), ('Chicken Little',), ('Daddy Day Care',), ('Starsky & Hutch',), ('Planet 51',), ('The Break-Up',), ('The Twilight Saga: New Moon',), ('Into the Woods',), ('Firewall',), ('Gamer',), ('Beautiful Creatures',), ('Monster-in-Law',), ('Kicking & Screaming',), ('Victor Frankenstein',), ('Red Riding Hood',), ('The Big Year',), ('Alfie',), ('The 5th Wave',), (\"Nim's Island\",), ('Identity Thief',), ('Neighbors 2: Sorority Rising',), ('This Is 40',), ('Heist',), ('Abduction',), ('Punisher: War Zone',), ('Nacho Libre',), ('Laws of Attraction',), ('Sausage Party',), ('30 Minutes or Less',), ('Alatriste',), ('Rugrats Go Wild',), ('The House Bunny',), ('The Ruins',), ('Un Plan parfait',), (\"Sammy's avonturen: De geheime doorgang\",), ('Haywire',), ('To Rome with Love',), ('The Jungle Book 2',), ('Georgia Rule',), ('School for Scoundrels',), ('Triple 9',), ('Barbershop 2:  Back in Business',), ('Observe and Report',), ('Love Happens',), ('I Come with the Rain',), ('Lottery Ticket',), ('My Life in Ruins',), ('Peeples',), ('The Rocker',), ('Bathory',), ('Autómata',), ('No Good Deed',), ('Young Adult',), (\"St. Trinian's\",), ('Brighton Rock',), ('White Noise',), ('Reno 911!: Miami',), ('War, Inc.',), ('White Noise 2: The Light',), ('La Fille du RER',), ('Skin Trade',), ('Baggage Claim',), ('The Haunting in Connecticut 2: Ghosts of Georgia',), ('Pathology',), ('Dear Wendy',), ('Hostel: Part II',), ('The Hole',), ('House at the End of the Street',), ('Annabelle',), ('Deadfall',), ('Mambo Italiano',), ('Salvation Boulevard',), ('Only God Forgives',), ('Treading Water',), ('D.E.B.S.',), ('Damsels in Distress',), ('The Calling',), ('Eden',), ('Captive',), ('The Lost Medallion: The Adventures of Billy Stone',), ('एबीसीडी',), ('The Last Exorcism',), ('Cry_Wolf',), ('The Battle of Shaker Heights',), ('After',), ('Show Me',), ('Tiny Furniture',), ('Breaking Upwards',), ('Battleship',), ('Jack the Giant Slayer',), ('The Legend of Tarzan',), ('Poseidon',), ('Wrath of the Titans',), ('The Wolfman',), ('Mars Needs Moms',), ('Beowulf',), ('The Green Hornet',), ('The Smurfs',), ('The Smurfs 2',), ('Point Break',), (\"You Don't Mess with the Zohan\",), ('Lara Croft Tomb Raider: The Cradle of Life',), ('Mirror Mirror',), ('AVP: Alien vs. Predator',), ('Battle: Los Angeles',), ('Dinner for Schmucks',), ('Abraham Lincoln: Vampire Hunter',), ('Hop',), (\"That's My Boy\",), ('Alvin and the Chipmunks',), ('Failure to Launch',), ('Race to Witch Mountain',), ('The Ant Bully',), ('The Bounty Hunter',), ('Drillbit Taylor',), ('New York Minute',), (\"Cirque du Freak: The Vampire's Assistant\",), ('The Gunman',), ('Guess Who',), ('House of Wax',), ('The X Files: I Want to Believe',), ('Sabotage',), ('The Nut Job',), ('The Whole Ten Yards',), ('Splice',), ('Runner Runner',), ('Konferenz der Tiere',), ('The Boss',), ('The Spy Next Door',), ('Pride and Prejudice and Zombies',), ('Suspect Zero',), ('Jeepers Creepers 2',), ('Good Luck Chuck',), ('Straw Dogs',), ('Underclassman',), ('On the Road',), ('Win a Date with Tad Hamilton!',), ('Vanity Fair',), ('Hit & Run',), ('Armored',), ('My Big Fat Greek Wedding 2',), ('Fame',), ('Bobby Jones: Stroke of Genius',), ('Slow Burn',), ('Hoot',), ('Listening',), ('Fun Size',), ('Quarantine',), ('The Eye',), ('The Cry of the Owl',), ('The Perfect Man',), (\"Teacher's Pet\",), ('कृष',), ('The Brown Bunny',), ('Trust the Man',), ('Pound of Flesh',), ('Casa De Mi Padre',), ('Song One',), ('Trade Of Innocents',), (\"Let's Kill Ward's Wife\",), (\"Moms' Night Out\",), ('Falcon Rising',), ('The Night Listener',), (\"Let's Go to Prison\",), ('Zipper',), ('8: The Mormon Proposition',), ('The Last Five Years',), ('Stitches',), ('The To Do List',), ('Unfriended',), ('Proud',), ('Ask Me Anything',), ('B-Girl',), ('Rodeo Girl',), ('The Dark Hours',), ('Sunday School Musical',), ('Horse Camp',), ('Reality Show',), ('The Horse Boy',), ('The Past Is a Grotesque Animal',), ('Superman Returns',), ('G.I. Joe: Retaliation',), ('R.I.P.D.',), ('4: Rise of the Silver Surfer',), ('Little Fockers',), ('The Stepford Wives',), ('Sex and the City 2',), ('The Nutcracker: The Untold Story',), ('The Core',), ('Alvin and the Chipmunks: Chipwrecked',), ('Timeline',), ('Be Cool',), (\"Fool's Gold\",), ('Alvin and the Chipmunks: The Squeakquel',), ('Hall Pass',), ('Priest',), ('Mortdecai',), ('Semi-Pro',), ('Æon Flux',), ('You, Me and Dupree',), ('Lucky You',), ('The Ring Two',), ('Man of the House',), ('Babylon A.D.',), ('Brüno',), ('Dumb and Dumber To',), (\"Big Momma's House 2\",), ('The Final Destination',), ('The Guilt Trip',), ('The Reaping',), ('Delgo',), ('Hot Pursuit',), ('Playing for Keeps',), ('Supercross',), ('Wild Card',), ('Scooby-Doo 2: Monsters Unleashed',), ('Beauty Shop',), ('The Sitter',), (\"Don't Be Afraid of the Dark\",), ('Unaccompanied Minors',), ('The Box',), ('Jane Got a Gun',), ('The Bridge of San Luis Rey',), ('Bringing Down the House',), ('The Stepfather',), (\"My Best Friend's Girl\",), ('The Man',), ('Bandslam',), ('By the Sea',), ('Survivor',), ('Bad Teacher',), ('Love the Coopers',), ('When a Stranger Calls',), ('Blood and Chocolate',), ('Admission',), ('Sorority Row',), ('Sinister 2',), ('The Goods: Live Hard, Sell Hard',), ('Atlas Shrugged Part II',), ('The Good Guy',), ('The Reef',), ('Green Street Hooligans: Underground',), ('Miss March',), ('Don McKay',), ('R100',), ('Dum Maaro Dum',), ('Addicted',), ('90 Minutes in Heaven',), ('After.Life',), ('A Haunted House 2',), ('Tanner Hall',), ('Diary of the Dead',), ('A Haunted House',), (\"There's Always Woodstock\",), ('Plush',), ('Creative Control',), ('Jimmy and Judy',), ('The Innkeepers',), ('Open Water',), ('Evan Almighty',), ('Ghostbusters',), ('Gods of Egypt',), ('Hulk',), ('Land of the Lost',), ('Ben-Hur',), ('Four Christmases',), ('Zookeeper',), ('Don Gato: El inicio de la pandilla',), ('Lady in the Water',), ('Dreamcatcher',), ('Little Man',), ('Couples Retreat',), ('Miss Congeniality 2: Armed and Fabulous',), ('Dark Water',), ('The Watch',), ('Barnyard',), ('Drive Angry',), ('Aliens in the Attic',), ('One for the Money',), (\"Pourquoi j'ai pas mangé mon père\",), ('The Medallion',), ('Scary Movie 4',), ('Sex Tape',), ('Cop Out',), ('Obitaemyy Ostrov',), ('Head of State',), ('Bait',), ('Whiteout',), ('Wanderlust',), ('Big Mommas: Like Father, Like Son',), ('The Incredible Burt Wonderstone',), ('Without a Paddle',), ('Piranha 3D',), ('Texas Chainsaw 3D',), ('Stay Alive',), ('Alpha and Omega',), ('A Guy Thing',), ('Machete Kills',), ('Regression',), ('Zambezia',), ('Just Married',), ('Restoration',), ('The Roommate',), (\"Jennifer's Body\",), ('My Bloody Valentine',), ('An American Haunting',), ('Darling Companion',), ('Misconduct',), ('Employee of the Month',), ('Sleepover',), ('Over Her Dead Body',), ('Shutter',), ('Snow Flower and the Secret Fan',), ('Fugly',), ('Chain of Command',), ('Wicked Blood',), ('Next Day Air',), ('Bachelorette',), ('They Came Together',), ('Beer League',), ('Lesbian Vampire Killers',), ('All Is Bright',), ('Higher Ground',), ('Sublime',), ('The Dog Lover',), ('The Pet',), ('L!fe Happens',), ('Walter',), ('Civil Brand',), ('Fighting Tommy Riley',), ('Jupiter Ascending',), ('The Mummy: Tomb of the Dragon Emperor',), ('Ghost Rider',), (\"Charlie's Angels: Full Throttle\",), ('Seventh Son',), ('A Good Day to Die Hard',), ('The Haunted Mansion',), ('The Day the Earth Stood Still',), ('Yogi Bear',), ('Walking With Dinosaurs',), ('Pompeii',), ('The Dilemma',), ('Bullet to the Head',), ('Garfield',), ('Christmas with the Kranks',), ('Your Highness',), ('Fifty Shades of Grey',), ('Aloha',), ('Space Chimps',), ('Old Dogs',), ('License to Wed',), ('The Benchwarmers',), ('Max Payne',), ('Valiant',), ('Little Black Book',), ('What Just Happened',), ('Paul Blart: Mall Cop',), ('Legion',), ('Agent Cody Banks 2: Destination London',), ('My Soul to Take',), ('The Transporter Refueled',), ('Stone',), ('Are We There Yet?',), ('The Grudge 2',), ('The Covenant',), ('Southland Tales',), ('The Hills Have Eyes II',), ('The Man with the Iron Fists',), ('Winnie Mandela',), ('The Last Days on Mars',), ('Housefull',), ('Ultramarines: A Warhammer 40,000 Movie',), ('New in Town',), ('The Wendell Baker Story',), ('Masked and Anonymous',), ('Bran Nue Dae',), ('The Hit List',), ('Paranormal Activity 4',), ('Paranormal Activity: The Marked Ones',), ('The Perfect Match',), ('Keeping Up with the Steins',), ('Maggie',), ('Inescapable',), ('How to Fall in Love',), ('The Betrayed',), ('Compadres',), (\"Tim and Eric's Billion Dollar Movie\",), ('Open Road',), ('Timber Falls',), ('Brick Lane',), ('Silent House',), ('Teeth',), ('Stonewall',), ('Nine Dead',), (\"Straight A's\",), ('GirlHouse',), ('Adulterers',), ('Fight to the Finish',), ('Straightheads',), ('Happy Christmas',), ('Green Lantern',), ('G-Force',), ('Nine',), ('Blackhat',), ('Garfield: A Tail of Two Kitties',), ('Did You Hear About the Morgans?',), ('Stuck on You',), ('The Dukes of Hazzard',), ('Bulletproof Monk',), ('Deck the Halls',), ('Herbie Fully Loaded',), ('Stormbreaker',), ('Alex Cross',), ('Cursed',), ('Stolen',), ('Snakes on a Plane',), ('Racing Stripes',), ('The Cave',), ('Legally Blonde 2: Red, White & Blonde',), (\"King's Ransom\",), ('The Adventurer: The Curse of the Midas Box',), ('Shorts',), ('I Love You, Beth Cooper',), ('Dickie Roberts: Former Child Star',), ('Halloween II',), ('Confessions of a Teenage Drama Queen',), ('Idlewild',), ('MacGruber',), ('Strangerland',), ('Into the Grizzly Maze',), ('Club Dread',), ('Aloft',), ('Снежная королева',), ('Perrier’s Bounty',), ('Friends with Money',), ('The Lazarus Effect',), ('Tusk',), ('Containment',), ('The Lords of Salem',), ('Censored Voices',), ('Hayride',), ('After Earth',), ('Astérix aux Jeux Olympiques',), ('Hollywood Homicide',), ('Doom',), ('The Last Legion',), ('I, Frankenstein',), ('Meet Dave',), ('Marmaduke',), ('The Big Bounce',), ('Bangkok Dangerous',), ('Paul Blart: Mall Cop 2',), ('Unfinished Business',), ('George and the Dragon',), ('Mr. 3000',), ('Alex & Emma',), ('Wu Ji',), ('DOA: Dead or Alive',), ('辛亥革命',), ('Agent Cody Banks',), ('The Counselor',), (\"I Don't Know How She Does It\",), ('Pulse',), ('Tammy',), ('Silent Hill: Revelation 3D',), ('ராமானுஜன்',), ('The Marine',), ('Post Grad',), ('Broken Horses',), ('I Think I Love My Wife',), ('Hot Tub Time Machine 2',), ('September Dawn',), ('Good Intentions',), ('The Mighty Macs',), ('Twixt',), ('Spring Breakers',), ('Apollo 18',), ('We Have Your Husband',), ('Dawn Patrol',), ('Woman Thou Art Loosed',), ('Christmas Mail',), ('This Thing of Ours',), ('Dysfunctional Friends',), ('Vượt Sóng',), ('Forget Me Not',), ('The Green Inferno',), ('Steppin: The Movie',), ('And Then Came Love',), ('The Horror Network Vol. 1',), ('1982',), ('American Hero',), ('They Will Have to Kill Us First',), ('The Living Wake',), ('Born to Fly: Elizabeth Streb vs. Gravity',), ('Love in the Time of Monsters',), ('Perfect Cowboy',), ('Echo Dr.',), ('The Naked Ape',), ('Bending Steel',), ('Independence Day: Resurgence',), ('Stealth',), ('How Do You Know',), (\"Gulliver's Travels\",), ('The Cat in the Hat',), ('Eragon',), ('Cats & Dogs 2 : The Revenge of Kitty Galore',), ('The Happening',), ('The Ridiculous 6',), ('Aliens vs Predator: Requiem',), ('Superhero Movie',), ('Zoom',), ('The Three Stooges',), ('Seed of Chucky',), ('Viy',), ('Anacondas: The Hunt for the Blood Orchid',), ('Shark Night',), ('Beverly Hills Chihuahua',), ('Catch That Kid',), ('Getaway',), ('American Dreamz',), ('The Brothers Solomon',), ('Nurse 3-D',), ('Re-Kill',), ('Restless',), ('Darkness Falls',), ('Freaky Deaky',), ('The Ten',), ('Ouija',), ('Demonic',), ('Close Range',), ('Rejsen til Saturn',), ('Stung',), ('Against the Wild',), ('Chernobyl Diaries',), ('Hits',), ('Black Rock',), ('Finishing The Game',), ('November',), ('Malevolence',), ('The Gallows',), ('The Lovers',), ('A Sound of Thunder',), ('Elektra',), ('The Order',), ('The Darkest Hour',), ('My Super Ex-Girlfriend',), ('Ultraviolet',), ('Hoodwinked Too! Hood VS. Evil',), ('Welcome to Mooseport',), ('Envy',), ('The Cold Light of Day',), ('Prom Night',), ('The Unborn',), ('Vamps',), ('The Son of No One',), ('Dungeons & Dragons: Wrath of the Dragon God',), ('Justin Bieber: Never Say Never',), ('三枪拍案惊奇',), ('The Forest',), ('The Open Road',), ('Black Christmas',), ('Princess Kaiulani',), ('You Got Served',), ('College',), ('Camping Sauvage',), ('Hansel and Gretel Get Baked',), ('Train',), ('Enter the Dangerous Mind',), ('Antibirth',), ('Thr3e',), ('Snow White: A Deadly Summer',), ('Escape from Tomorrow',), ('Treachery',), (\"The Maid's Room\",), ('The R.M.',), ('3 Backyards',), ('The Last Airbender',), ('Exorcist: The Beginning',), ('xXx: State of the Union',), ('The Spirit',), ('Ghost Rider: Spirit of Vengeance',), ('Zoolander 2',), ('Spy Kids 3-D: Game Over',), ('Torque',), ('Godsend',), ('The Face of an Angel',), ('Dance Flick',), ('Deuce Bigalow: European Gigolo',), ('One Missed Call',), ('Code Name: The Cleaner',), ('Strange Wilderness',), ('Good Boy!',), ('Soul Plane',), (\"Malibu's Most Wanted\",), ('All About Steve',), ('The Last Godfather',), ('Johnson Family Vacation',), ('Skyline',), ('Motherhood',), ('The 5th Quarter',), ('Surfer, Dude',), ('Khiladi 786',), ('Decoys',), ('Yoga Hosers',), ('Redemption Road',), ('Once in a Lifetime: The Extraordinary Story of the New York Cosmos',), ('Hardflip',), ('ZMD: Zombies of Mass Destruction',), ('Rotor DR1',), ('Backmask',), ('Basic Instinct 2',), ('Year One',), (\"Happily N'Ever After\",), ('Furry Vengeance',), ('Boogeyman',), ('Scary Movie 5',), ('The Prince',), ('The Women',), ('The Cookout',), ('The Vatican Tapes',), ('In the Cut',), ('Swelter',), ('Without Men',), ('Survival of the Dead',), ('2:13',), ('Something Wicked',), (\"2016: Obama's America\",), ('Go for It!',), ('The Virginity Hit',), ('Out of the Dark',), ('The Devil Inside',), ('Super Hybrid',), ('Samantha: An American Girl Holiday',), ('The Shaggy Dog',), ('Against the Ropes',), ('Dylan Dog: Dead of Night',), ('I Am Wrath',), ('The Apparition',), ('Undiscovered',), ('Dying of the Light',), ('The Veil',), ('The Rise of the Krays',), ('Lies in Plain Sight',), ('Kickboxer: Vengeance',), ('Mooz-lum',), ('Childless',), ('Donkey Punch',), ('Detention of the Dead',), ('The FP',), ('Fantastic Four',), ('The Legend of Hercules',), ('The Adventures of Sharkboy and Lavagirl',), ('Jonah Hex',), ('Spy Kids: All the Time in the World',), ('The Informers',), (\"My Boss's Daughter\",), ('Movie 43',), ('Bucky Larson: Born to Be a Star',), (\"Devil's Due\",), ('Daddy Day Camp',), ('The Last Exorcism Part II',), ('The Perfect Wave',), (\"No Man's Land: The Rise of Reeker\",), ('The Curse of Downers Grove',), ('Shark Lake',), ('Cabin Fever',), ('Below Zero',), ('The Vatican Exorcisms',), ('16 to Life',), ('The Love Guru',), ('Kangaroo Jack',), ('The Tooth Fairy',), ('Fat Albert',), ('Nomad',), ('Virgin Territory',), (\"My Baby's Daddy\",), ('10 Days in a Madhouse',), (\"Dancin' It's On\",), ('Beat the World',), ('Hai Marjawaan!',), ('American Heist',), ('Kurtlar vadisi - Irak',), ('非常幸运',), ('The Haunting of Molly Hartley',), ('Fifty Shades of Black',), ('Unnatural',), ('N-Secure',), ('Catwoman',), ('Thunderbirds',), ('Vampires Suck',), ('Crossover',), ('Area 51',), ('Walking with the Dead',), ('Independence Daysaster',), ('Checkmate',), ('The Wicked Within',), ('Faith Connections',), ('Kiss the Bride',), ('Roadside',), ('The Frozen',), ('All Superheroes Must Die',), ('Jack and Jill',), ('In the Name of the King: A Dungeon Siege Tale',), ('Dumb and Dumberer: When Harry Met Lloyd',), ('Red Sky',), ('An American Carol',), ('Code of Honor',), ('Born Of War',), ('The Boy Next Door',), ('The Helpers',), ('Opposite Sex',), ('Amnesiac',), ('The Timber',), ('Da Sweet Blood of Jesus',), ('Q',), ('The Sleepwalker',), ('A Fine Step',), ('The Canyons',), ('디워',), ('Stan Helsing',), (\"The Devil's Tomb\",), ('Witless Protection',), ('Fear Clinic',), ('The Californians',), ('Street Fighter: The Legend of Chun-Li',), ('Accidental Love',), ('Fight Valley',), ('Drive Hard',), ('Blonde Ambition',), ('Standing Ovation',), ('Atlas Shrugged Part III: Who is John Galt?',), ('Chain Letter',), (\"The Legend of Hell's Gate: An American Conspiracy\",), ('Extreme Movie',), ('La véritable histoire du Chat Botté',), (\"Who's Your Caddy?\",), ('Fascination',), ('Sharknado',), ('Bled',), ('Meet the Spartans',), ('Left Behind',), ('Phat Girlz',), ('Brave New Girl',), ('Not Cool',), ('Son of the Mask',), ('Date Movie',), ('Lords of London',), ('Gigli',), ('BloodRayne',), ('Navy Seals vs. Zombies',), ('Chicken Tikka Masala',), ('$upercapitalist',), ('The Salon',), ('Frat Party',), ('Zombie Hunter',), ('Girls Gone Dead',), ('Run, Hide, Die',), ('Chocolate: Deep Dark Secrets',), ('Subconscious',), ('Marci X',), ('Larry the Cable Guy: Health Inspector',), ('The Real Cancun',), ('In the Name of the King III',), ('#Horror',), ('In Her Line of Fire',), ('Queen Crab',), ('Epic Movie',), ('Doogal',), ('Farce of the Penguins',), ('The 41–Year–Old Virgin Who Knocked Up Sarah Marshall and Felt Superbad About It',), (\"Doc Holliday's Revenge\",), ('Raymond Did It',), ('Alone in the Dark',), ('U.F.O.',), ('The Dead Undead',), ('United Passions',), ('Disaster Movie',), ('How She Move',), ('From Justin to Kelly',), ('兔侠传奇',), ('Henry & Me',), ('My Big Fat Independent Movie',), ('Unsullied',), ('Water & Power',), ('Dragonball Evolution',), ('The Masked Saint',), ('30 Nights of Paranormal Activity With the Devil Inside the Girl With the Dragon Tattoo',), ('AWOL-72',), ('Guiana 1838',), ('Royal Kill',), ('Mutant World',), ('Foodfight!',), (\"Neal 'n' Nikki\",), ('The Oogieloves in the Big Balloon Adventure',), ('Bleeding Hearts',), ('Windsor Drive',), ('Dawn of the Crescent Moon',), ('Tin Can Man',), ('Superbabies: Baby Geniuses 2',), ('All Hat',), ('Gory Gory Hallelujah',), ('Dwegons',), ('Black Water Transit',), (\"Should've Been Romeo\",), ('The Secret',), ('Time to Choose',), ('The Deported',), ('Four Single Fathers',), ('8 Days',), ('Mi America',), ('To Be Frank, Sinatra at 100',), (\"A Beginner's Guide to Snuff\",), ('दिल जो भी कहे',), ('House at the End of the Drive',), ('Kurmanjan Datka. Queen of the Mountains',), ('The Algerian',), ('Certifiably Jonathan',), ('La Navaja De Don Juan',), (\"Le bonheur d'Elza\",), ('The Hadza:  Last of the First',), ('Arnolds Park',), ('The Harvest (La Cosecha)',), ('The Outrageous Sophie Tucker',), ('El Rey de Najayo',), ('The Sound and the Shadow',), ('Mutual Friends',), (\"Anderson's Cross\",), ('Rust',), ('Give Me Shelter',), ('Western Religion',), ('Solitude',), ('Theresa Is a Mother',), ('Archaeology of a Woman',), ('Butterfly Girl',), ('Lumea e a mea',), ('Heroes of Dirt',), ('Antarctic Edge: 70° South',), ('An American in Hollywood',), ('The Work and The Story',), (\"Dude Where's My Dog?\",), (\"The Legend of God's Gun\",), ('Her Cry: La Llorona Investigation',), ('Dutch Kills',), ('Stories of Our Lives',), ('Sanctuary: Quite a Conundrum',)]\n"
     ]
    }
   ],
   "source": [
    "#high voted movies since 2005-1-1 to till now\n",
    "cur.execute(\"SELECT ORIGINAL_TITLE FROM MOVIES WHERE RELEASE_DATE>= 2005-1-1 ORDER BY VOTE_AVERAGE DESC\")\n",
    "high_rate=cur.fetchall()\n",
    "print(f\"high voted movies from 2005 to till now are: {high_rate}\")"
   ]
  },
  {
   "cell_type": "code",
   "execution_count": 8,
   "id": "5be765a0-3509-447b-bfc1-04ee5e7cd536",
   "metadata": {},
   "outputs": [
    {
     "name": "stdout",
     "output_type": "stream",
     "text": [
      "      id              original_title     budget  popularity release_date  \\\n",
      "0  43597                      Avatar  237000000         150   2009-12-10   \n",
      "1  43622                     Titanic  200000000         100   1997-11-18   \n",
      "2  43613                The Avengers  220000000         144   2012-04-25   \n",
      "3  43625              Jurassic World  150000000         418   2015-06-09   \n",
      "4  43641                   Furious 7  190000000         102   2015-04-01   \n",
      "5  43604     Avengers: Age of Ultron  280000000         134   2015-04-22   \n",
      "6  43721                      Frozen  150000000         165   2013-11-27   \n",
      "7  43628                  Iron Man 3  200000000          77   2013-04-18   \n",
      "8  44143                     Minions   74000000         875   2015-06-17   \n",
      "9  43623  Captain America: Civil War  250000000         198   2016-04-27   \n",
      "\n",
      "      revenue                       title  vote_average  vote_count  \\\n",
      "0  2787965087                      Avatar           7.2       11800   \n",
      "1  1845034188                     Titanic           7.5        7562   \n",
      "2  1519557910                The Avengers           7.4       11776   \n",
      "3  1513528810              Jurassic World           6.5        8662   \n",
      "4  1506249360                   Furious 7           7.3        4176   \n",
      "5  1405403694     Avengers: Age of Ultron           7.3        6767   \n",
      "6  1274219009                      Frozen           7.3        5295   \n",
      "7  1215439994                  Iron Man 3           6.8        8806   \n",
      "8  1156730962                     Minions           6.4        4571   \n",
      "9  1153304495  Captain America: Civil War           7.1        7241   \n",
      "\n",
      "                                            overview  \\\n",
      "0  In the 22nd century, a paraplegic Marine is di...   \n",
      "1  84 years later, a 101-year-old woman named Ros...   \n",
      "2  When an unexpected enemy emerges and threatens...   \n",
      "3  Twenty-two years after the events of Jurassic ...   \n",
      "4  Deckard Shaw seeks revenge against Dominic Tor...   \n",
      "5  When Tony Stark tries to jumpstart a dormant p...   \n",
      "6  Young princess Anna of Arendelle dreams about ...   \n",
      "7  When Tony Stark's world is torn apart by a for...   \n",
      "8  Minions Stuart, Kevin and Bob are recruited by...   \n",
      "9  Following the events of Age of Ultron, the col...   \n",
      "\n",
      "                                             tagline     uid  director_id  \n",
      "0                        Enter the World of Pandora.   19995         4762  \n",
      "1          Nothing on Earth could come between them.     597         4762  \n",
      "2                            Some assembly required.   24428         4769  \n",
      "3                                  The park is open.  135397         4783  \n",
      "4                                Vengeance Hits Home  168259         4794  \n",
      "5                                A New Age Has Come.   99861         4769  \n",
      "6  Only the act of true love will thaw a frozen h...  109445         4844  \n",
      "7                Unleash the power behind the armor.   68721         4784  \n",
      "8       Before Gru, they had a history of bad bosses  211672         5045  \n",
      "9                                    Divided We Fall  271110         4781  \n"
     ]
    }
   ],
   "source": [
    "#Revenue analysis\n",
    "#top10 high revenue movies\n",
    "cur.execute(\"SELECT * FROM MOVIES ORDER BY REVENUE DESC LIMIT 10\")\n",
    "top_10_revenue=cur.fetchall()\n",
    "high_revenue_movies=pd.DataFrame(top_10_revenue,columns=[\"id\",\"original_title\",\"budget\",\"popularity\",\"release_date\",\"revenue\",\"title\",\"vote_average\",\"vote_count\",\"overview\",\"tagline\",\"uid\",\"director_id\"])\n",
    "print(high_revenue_movies)"
   ]
  },
  {
   "cell_type": "code",
   "execution_count": 9,
   "id": "4d0d2b59-13b8-4071-9405-db93d5c8ffdc",
   "metadata": {},
   "outputs": [
    {
     "name": "stdout",
     "output_type": "stream",
     "text": [
      "      id            original_title    budget  popularity release_date  \\\n",
      "0  47116          Stiff Upper Lips         0           0   1998-06-12   \n",
      "1  47642     Dancer, Texas Pop. 81         0           0   1998-05-01   \n",
      "2  47589                 Sardaarji         0           0   2015-06-26   \n",
      "3  45983            One Man's Hero         0           0   1999-08-02   \n",
      "4  45478  The Shawshank Redemption  25000000         136   1994-09-23   \n",
      "5  46567        There Goes My Baby  10500000           0   1994-09-02   \n",
      "6  46393     The Prisoner of Zenda         0           4   1937-09-03   \n",
      "7  46934             The Godfather   6000000         143   1972-03-14   \n",
      "8  44259                Fight Club  63000000         146   1999-10-15   \n",
      "9  45415          Schindler's List  22000000         104   1993-11-29   \n",
      "\n",
      "     revenue                     title  vote_average  vote_count  \\\n",
      "0          0          Stiff Upper Lips          10.0           1   \n",
      "1     565592     Dancer, Texas Pop. 81          10.0           1   \n",
      "2          0                 Sardaarji           9.5           2   \n",
      "3          0            One Man's Hero           9.3           2   \n",
      "4   28341469  The Shawshank Redemption           8.5        8205   \n",
      "5     123509        There Goes My Baby           8.5           2   \n",
      "6          0     The Prisoner of Zenda           8.4          11   \n",
      "7  245066411             The Godfather           8.4        5893   \n",
      "8  100853753                Fight Club           8.3        9413   \n",
      "9  321365567          Schindler's List           8.3        4329   \n",
      "\n",
      "                                            overview  \\\n",
      "0  Stiff Upper Lips is a broad parody of British ...   \n",
      "1  Four guys, best friends, have grown up togethe...   \n",
      "2  A ghost hunter uses bottles to capture trouble...   \n",
      "3  One Man's Hero tells the little-known story of...   \n",
      "4  Framed in the 1940s for the double murder of h...   \n",
      "5  A group of high school seniors meets in the su...   \n",
      "6  An Englishman on a Ruritarian holiday must imp...   \n",
      "7  Spanning the years 1945 to 1955, a chronicle o...   \n",
      "8  A ticking-time-bomb insomniac and a slippery s...   \n",
      "9  The true story of how businessman Oskar Schind...   \n",
      "\n",
      "                                             tagline     uid  director_id  \n",
      "0                                               None   89861         6332  \n",
      "1       in the middle of nowhere they had everything   78373         5463  \n",
      "2                                               None  346081         6588  \n",
      "3           One man's hero is another man's traitor.   69848         5770  \n",
      "4  Fear can hold you prisoner. Hope can set you f...     278         5051  \n",
      "5                                               None   88641         6051  \n",
      "6       The most thrilling swordfight ever filmed...   43867         5972  \n",
      "7                         An offer you can't refuse.     238         5179  \n",
      "8                            Mischief. Mayhem. Soap.     550         4829  \n",
      "9    Whoever saves one life, saves the world entire.     424         4799  \n"
     ]
    }
   ],
   "source": [
    "#Voting analysis\n",
    "#most popular movie according to vote average\n",
    "cur.execute(\"SELECT * FROM MOVIES ORDER BY VOTE_AVERAGE DESC LIMIT 10\")\n",
    "top_10_voted=cur.fetchall()\n",
    "highvoted_movies=pd.DataFrame(top_10_voted,columns=[\"id\",\"original_title\",\"budget\",\"popularity\",\"release_date\",\"revenue\",\"title\",\"vote_average\",\"vote_count\",\"overview\",\"tagline\",\"uid\",\"director_id\"])\n",
    "print(highvoted_movies)"
   ]
  },
  {
   "cell_type": "code",
   "execution_count": 10,
   "id": "7ae565aa-7934-4607-b0d4-c412bcc56724",
   "metadata": {},
   "outputs": [
    {
     "name": "stdout",
     "output_type": "stream",
     "text": [
      "                   name  number_of_movies  total_revenue\n",
      "0      Steven Spielberg                27     9147393164\n",
      "1         Peter Jackson                 9     6498642820\n",
      "2         James Cameron                 7     5883569439\n",
      "3           Michael Bay                12     5832524638\n",
      "4     Christopher Nolan                 8     4227483234\n",
      "...                 ...               ...            ...\n",
      "2344         Adam Green                 1              0\n",
      "2345      Adam Goldberg                 1              0\n",
      "2346       Adam Carolla                 1              0\n",
      "2347    Aaron Schneider                 1              0\n",
      "2348         Aaron Hann                 1              0\n",
      "\n",
      "[2349 rows x 3 columns]\n"
     ]
    }
   ],
   "source": [
    "#Director Analysis>>>>>>>>>>>>>\n",
    "#name all the directors and their number of movies according to  their  total revenue descendingly\n",
    "cur.execute(\"SELECT NAME,COUNT(ORIGINAL_TITLE),SUM(REVENUE) FROM MOVIES JOIN DIRECTORS ON MOVIES.DIRECTOR_ID=DIRECTORS.ID GROUP BY NAME ORDER BY SUM(REVENUE) DESC\")\n",
    "dpf=cur.fetchall()\n",
    "directors_profit=pd.DataFrame(dpf,columns=[\"name\",\"number_of_movies\",\"total_revenue\"])\n",
    "print(directors_profit)"
   ]
  },
  {
   "cell_type": "code",
   "execution_count": 11,
   "id": "fab53696-56bc-4146-86a9-4d326d7be39e",
   "metadata": {},
   "outputs": [
    {
     "name": "stdout",
     "output_type": "stream",
     "text": [
      "                  name  number_of_movies  total_revenue\n",
      "0     Steven Spielberg                27     9147393164\n",
      "1          Woody Allen                21      669101038\n",
      "2      Martin Scorsese                20     1956635998\n",
      "3       Clint Eastwood                20     2512058888\n",
      "4            Spike Lee                16      340618771\n",
      "...                ...               ...            ...\n",
      "2344      Adam Carolla                 1              0\n",
      "2345       Adam Brooks                 1       55447968\n",
      "2346      Abel Ferrara                 1        1227324\n",
      "2347   Aaron Schneider                 1              0\n",
      "2348        Aaron Hann                 1              0\n",
      "\n",
      "[2349 rows x 3 columns]\n"
     ]
    }
   ],
   "source": [
    "#name all the directors and their total revenue according to the totalnumber of movies descendingly\n",
    "cur.execute(\"SELECT NAME,COUNT(ORIGINAL_TITLE),SUM(REVENUE) FROM MOVIES JOIN DIRECTORS ON MOVIES.DIRECTOR_ID=DIRECTORS.ID GROUP BY NAME ORDER BY COUNT(ORIGINAL_TITLE) DESC\")\n",
    "dpf=cur.fetchall()\n",
    "directors_movies=pd.DataFrame(dpf,columns=[\"name\",\"number_of_movies\",\"total_revenue\"])\n",
    "print(directors_movies)"
   ]
  },
  {
   "cell_type": "code",
   "execution_count": 12,
   "id": "ad8ecb9d-cc7e-4baa-b77a-fca69e3f3d8b",
   "metadata": {},
   "outputs": [
    {
     "name": "stdout",
     "output_type": "stream",
     "text": [
      "                                           MOVIE_NAME RELEASE_DATE     BUDGET  \\\n",
      "0   Indiana Jones and the Kingdom of the Crystal S...   2008-05-21  185000000   \n",
      "1                                             The BFG   2016-06-01  140000000   \n",
      "2                                   War of the Worlds   2005-06-28  132000000   \n",
      "3                            The Adventures of Tintin   2011-10-25  130000000   \n",
      "4                                     Minority Report   2002-06-20  102000000   \n",
      "5                        A.I. Artificial Intelligence   2001-06-29  100000000   \n",
      "6                       The Lost World: Jurassic Park   1997-05-23   73000000   \n",
      "7                                        The Terminal   2004-06-17   60000000   \n",
      "8                                              Munich   2005-12-22   70000000   \n",
      "9                                                Hook   1991-12-11   70000000   \n",
      "10                                          War Horse   2011-12-25   66000000   \n",
      "11                                Saving Private Ryan   1998-07-24   70000000   \n",
      "12                                            Lincoln   2012-11-09   65000000   \n",
      "13                                      Jurassic Park   1993-06-11   63000000   \n",
      "14                                Catch Me If You Can   2002-12-25   52000000   \n",
      "15                 Indiana Jones and the Last Crusade   1989-05-24   48000000   \n",
      "16                                    Bridge of Spies   2015-10-15   40000000   \n",
      "17                                            Amistad   1997-12-03   36000000   \n",
      "18                                               1941   1979-12-13   35000000   \n",
      "19               Indiana Jones and the Temple of Doom   1984-05-23   28000000   \n",
      "20                                   Schindler's List   1993-11-29   22000000   \n",
      "21                            Raiders of the Lost Ark   1981-06-12   18000000   \n",
      "22                 Close Encounters of the Third Kind   1977-11-16   20000000   \n",
      "23                                   The Color Purple   1985-12-18   15000000   \n",
      "24                                               Jaws   1975-06-18    7000000   \n",
      "25                         E.T. the Extra-Terrestrial   1982-04-03   10500000   \n",
      "26                           Twilight Zone: The Movie   1983-06-24   10000000   \n",
      "\n",
      "      REVENUE  POPULARITY  VOTE_AVERAGE  \n",
      "0   786636033          75           5.7  \n",
      "1   183345589          44           6.0  \n",
      "2   591739379          48           6.2  \n",
      "3   371940071          89           6.7  \n",
      "4   358372926          65           7.1  \n",
      "5   235926552          34           6.8  \n",
      "6   229074524           2           6.2  \n",
      "7   219417255          57           7.0  \n",
      "8   130358911          29           6.9  \n",
      "9   300854823          33           6.6  \n",
      "10  177584879          29           7.0  \n",
      "11  481840909          76           7.9  \n",
      "12  275293450          36           6.7  \n",
      "13  920100000          40           7.6  \n",
      "14  352114312          73           7.7  \n",
      "15  474171806          80           7.6  \n",
      "16  165478348          48           7.2  \n",
      "17   74000000           3           6.8  \n",
      "18   31755742          10           5.6  \n",
      "19  333000000          66           7.1  \n",
      "20  321365567         104           8.3  \n",
      "21  389925971          68           7.7  \n",
      "22  303788635          52           7.2  \n",
      "23  146292009          17           7.7  \n",
      "24  470654000          50           7.5  \n",
      "25  792910554          56           7.3  \n",
      "26   29450919          12           6.2  \n"
     ]
    }
   ],
   "source": [
    "#movies name ,release date ,budget,revenue,popularity,vote average of director Steven Spielberg\n",
    "cur.execute(\"SELECT TITLE,RELEASE_DATE,BUDGET,REVENUE,POPULARITY,VOTE_AVERAGE FROM MOVIES JOIN DIRECTORS ON MOVIES.DIRECTOR_ID=DIRECTORS.ID WHERE NAME='Steven Spielberg' \")\n",
    "spiel_berginfo=cur.fetchall()\n",
    "steven_info=pd.DataFrame(spiel_berginfo,columns=[\"MOVIE_NAME\",\"RELEASE_DATE\",\"BUDGET\",\"REVENUE\",\"POPULARITY\",\"VOTE_AVERAGE\"])\n",
    "print(steven_info)"
   ]
  },
  {
   "cell_type": "code",
   "execution_count": 13,
   "id": "a977b3ae-90ff-4437-9cf2-29400fb000f8",
   "metadata": {},
   "outputs": [
    {
     "name": "stdout",
     "output_type": "stream",
     "text": [
      "[('James Cameron', 4762, 2, 2710, 'Directing'), ('John Woo', 4893, 2, 11401, 'Directing'), ('Luc Besson', 4949, 2, 59, 'Directing')]\n"
     ]
    }
   ],
   "source": [
    "#retriving 3 directors details from diretors table\n",
    "cur.execute(\"SELECT * FROM DIRECTORS WHERE NAME in ('James Cameron','Luc Besson','John Woo')\")\n",
    "three_directors_info=cur.fetchall()\n",
    "print(three_directors_info)"
   ]
  },
  {
   "cell_type": "code",
   "execution_count": 14,
   "id": "6d1cdddf-beb0-44ea-b76c-0a66159c417c",
   "metadata": {},
   "outputs": [
    {
     "name": "stdout",
     "output_type": "stream",
     "text": [
      "the directors whose name are starting with Steven are :[('Steven Spielberg', 4799, 2, 488, 'Directing'), ('Steven Soderbergh', 4909, 2, 1884, 'Directing'), ('Steven Brill', 5013, 2, 32593, 'Directing'), ('Steven Zaillian', 5117, 2, 2260, 'Directing'), ('Steven Quale', 5216, 2, 93214, 'Directing'), ('Steven Seagal', 5221, 2, 23880, 'Directing'), ('Steven E. de Souza', 5390, 2, 1726, 'Directing'), ('Steven Shainberg', 5803, 2, 67795, 'Directing'), ('Steven R. Monroe', 6713, 2, 88039, 'Directing')]\n"
     ]
    }
   ],
   "source": [
    "#directors with name starting Steven\n",
    "cur.execute(\"SELECT * FROM DIRECTORS WHERE NAME LIKE 'Steven%'\")\n",
    "sdirector=cur.fetchall()\n",
    "print(f\"the directors whose name are starting with Steven are :{sdirector}\")"
   ]
  },
  {
   "cell_type": "code",
   "execution_count": 15,
   "id": "c6c0d100-6ca4-4c92-a14f-9219fcb2ce19",
   "metadata": {},
   "outputs": [
    {
     "name": "stdout",
     "output_type": "stream",
     "text": [
      " the number female directors are:150\n"
     ]
    }
   ],
   "source": [
    "#in this dataset gender defines\n",
    "#0-male\n",
    "#1-female\n",
    "#2-male\n",
    "#finding the count of female directors from the directors table\n",
    "cur.execute(\"SELECT COUNT(GENDER) FROM DIRECTORS WHERE GENDER=1\")\n",
    "female_directors= cur.fetchall()\n",
    "print(f\" the number female directors are:{female_directors[0][0]}\")"
   ]
  },
  {
   "cell_type": "code",
   "execution_count": 16,
   "id": "3d55afac-e3e9-4fdb-bb95-abc4f77c8e40",
   "metadata": {},
   "outputs": [
    {
     "name": "stdout",
     "output_type": "stream",
     "text": [
      "movie(s) directed by Brenda Chapmen is:Brave\n"
     ]
    }
   ],
   "source": [
    "#the movies directed by Brenda Chapman\n",
    "cur.execute(\"SELECT ORIGINAL_TITLE FROM MOVIES INNER JOIN DIRECTORS ON MOVIES.DIRECTOR_ID=DIRECTORS.ID WHERE NAME='Brenda Chapman' \")\n",
    "bdct=cur.fetchall()\n",
    "print(f\"movie(s) directed by Brenda Chapmen is:{bdct[0][0]}\")"
   ]
  },
  {
   "cell_type": "code",
   "execution_count": 17,
   "id": "f21d4165-2357-422b-8110-199b130ea950",
   "metadata": {},
   "outputs": [
    {
     "name": "stdout",
     "output_type": "stream",
     "text": [
      "The first 10 female directors are:[('Brenda Chapman', 4801, 1, 59803, 'Directing'), ('Lilly Wachowski', 4805, 1, 9339, 'Directing'), ('Jennifer Yuh Nelson', 4853, 1, 142312, 'Directing'), ('Kathryn Bigelow', 4970, 1, 14392, 'Directing'), ('Nancy Meyers', 4978, 1, 17698, 'Directing'), ('Jill Culton', 4979, 1, 7881, 'Directing'), ('Mimi Leder', 4996, 1, 51984, 'Directing'), ('Vicky Jenson', 5032, 1, 12058, 'Directing'), ('Betty Thomas', 5052, 1, 31024, 'Directing'), ('Angelina Jolie', 5086, 1, 11701, 'Directing')]\n"
     ]
    }
   ],
   "source": [
    "#finding the first 10 female directors \n",
    "cur.execute(\"SELECT * FROM DIRECTORS WHERE GENDER=1\")\n",
    "ten_femaledirct=cur.fetchall()\n",
    "print(f\"The first 10 female directors are:{ten_femaledirct[0:10]}\")"
   ]
  },
  {
   "cell_type": "code",
   "execution_count": 18,
   "id": "48de9924-a835-4a52-992a-4dbb21e1eef5",
   "metadata": {},
   "outputs": [
    {
     "name": "stdout",
     "output_type": "stream",
     "text": [
      "The 5th  female director name is:Nancy Meyers\n"
     ]
    }
   ],
   "source": [
    "#name of the 5th female director\n",
    "cur.execute(\"SELECT NAME FROM DIRECTORS WHERE GENDER=1\")\n",
    "fiveth_female_director=cur.fetchall()\n",
    "print(f\"The 5th  female director name is:{fiveth_female_director[4][0]}\")"
   ]
  },
  {
   "cell_type": "code",
   "execution_count": null,
   "id": "20eaae80-fe4f-4e18-b2ed-45df33e95ce9",
   "metadata": {},
   "outputs": [],
   "source": []
  }
 ],
 "metadata": {
  "kernelspec": {
   "display_name": "Python 3 (ipykernel)",
   "language": "python",
   "name": "python3"
  },
  "language_info": {
   "codemirror_mode": {
    "name": "ipython",
    "version": 3
   },
   "file_extension": ".py",
   "mimetype": "text/x-python",
   "name": "python",
   "nbconvert_exporter": "python",
   "pygments_lexer": "ipython3",
   "version": "3.13.1"
  }
 },
 "nbformat": 4,
 "nbformat_minor": 5
}
