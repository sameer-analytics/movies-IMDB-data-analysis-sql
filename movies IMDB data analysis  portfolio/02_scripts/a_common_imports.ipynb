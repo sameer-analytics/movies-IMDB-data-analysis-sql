{
 "cells": [
  {
   "cell_type": "code",
   "execution_count": 1,
   "id": "620fe5a6-2f4d-4b77-9072-1b1c329f1f93",
   "metadata": {},
   "outputs": [],
   "source": [
    "#importing the necessary  libraries\n",
    "import numpy as np #for mathematical operation\n",
    "import pandas as pd #for data manipulation\n",
    "import matplotlib.pyplot as plt #for visualization\n",
    "import sqlite3 #for server less database"
   ]
  }
 ],
 "metadata": {
  "kernelspec": {
   "display_name": "Python 3 (ipykernel)",
   "language": "python",
   "name": "python3"
  },
  "language_info": {
   "codemirror_mode": {
    "name": "ipython",
    "version": 3
   },
   "file_extension": ".py",
   "mimetype": "text/x-python",
   "name": "python",
   "nbconvert_exporter": "python",
   "pygments_lexer": "ipython3",
   "version": "3.13.1"
  }
 },
 "nbformat": 4,
 "nbformat_minor": 5
}
