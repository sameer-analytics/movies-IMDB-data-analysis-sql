{
 "cells": [
  {
   "cell_type": "code",
   "execution_count": 1,
   "id": "652c47ac-0fc2-4874-9a2e-0ca46d4c8087",
   "metadata": {},
   "outputs": [],
   "source": [
    "#importing the necessary  libraries\n",
    "import numpy as np #for mathematical operation\n",
    "import pandas as pd #for data manipulation\n",
    "import sqlite3 #for server less database"
   ]
  },
  {
   "cell_type": "markdown",
   "id": "e18441b4-e3c0-4854-b513-a34a971eab64",
   "metadata": {},
   "source": [
    "# Database Connection"
   ]
  },
  {
   "cell_type": "code",
   "execution_count": 2,
   "id": "a47b1823-6acd-492d-ac20-25841d5e1bcf",
   "metadata": {},
   "outputs": [],
   "source": [
    "#Database Connection\n",
    "# Establishing a connection to the SQLite database\n",
    "db = \"../01_data/movies_directors_dataset.sqlite\"\n",
    "con = sqlite3.connect(db)\n",
    "cur = con.cursor()  # Creating a cursor object to execute SQL queries\n",
    "#we are creating a database connection because sql lite database from now hold the movies and director table which will be analyse"
   ]
  }
 ],
 "metadata": {
  "kernelspec": {
   "display_name": "Python 3 (ipykernel)",
   "language": "python",
   "name": "python3"
  },
  "language_info": {
   "codemirror_mode": {
    "name": "ipython",
    "version": 3
   },
   "file_extension": ".py",
   "mimetype": "text/x-python",
   "name": "python",
   "nbconvert_exporter": "python",
   "pygments_lexer": "ipython3",
   "version": "3.13.1"
  }
 },
 "nbformat": 4,
 "nbformat_minor": 5
}
